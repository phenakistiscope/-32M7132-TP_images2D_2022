{
 "cells": [
  {
   "cell_type": "markdown",
   "id": "1a9f68ee-c09e-4118-8cd8-eb7e07be996a",
   "metadata": {},
   "source": [
    "# **Manipuler des images avec Python: partie 1**\n",
    "\n",
    "## Introduction à l'analyse des images - 32M7132\n",
    "\n",
    "*Adrien Jeanrenaud (adrien.jeanrenaud@unige.ch)*"
   ]
  },
  {
   "cell_type": "markdown",
   "id": "f6958d21-81d8-49d8-aa04-14b99ac22b1b",
   "metadata": {},
   "source": [
    "<div class=\"alert alert-block alert-info\">\n",
    "<b>Manipulations des images partie 1</b> : jusque là nous avons manipulé les images une par. Dès aujourd'hui, nous allons voir comment manipuler les images en quatité, leur appliquer des transformations et retirer des informations:\n",
    "</div>\n",
    "\n",
    "## **Plan du cours**\n",
    "\n",
    "> **Importer des images**\n",
    "> * Rappel sur les chemins\n",
    "> * Une fonction pour importer un dossier\n",
    "> * Une fonction pour importer seulement des images\n",
    "\n",
    "> **Extraire des informations**\n",
    "> * Rappel sur les informations\n",
    "> * Extraires des informations en boucles\n",
    "> * Visualiser les informations\n",
    "\n",
    "> **Travailler avec des données textuelles et visuelles**\n",
    "> * Importer et visualiser un tableau de données\n",
    "> * Télécharger les données visuelles\n",
    "> * Lier les données visuelles et textuelles\n",
    "> * Viualiser les informations"
   ]
  },
  {
   "cell_type": "markdown",
   "id": "907ac7fb-9e7d-4e31-b989-acf3cd88b207",
   "metadata": {},
   "source": [
    "## **Importer des images**\n",
    "\n",
    "Pour importer des images, il faut revenir aux cours précédents et se rappeler comment naviguer sur notre machine et cibler un dossier. Ensuite, il nous faut stocker les images dans une varaible. Le but final est de créer une fonction utilisable en tous temps.\n",
    "\n",
    "### Rappel sur les chemins\n",
    "\n",
    "La librairie \"os\" permet de naviguer sur notre machine et cibler un dossier avec des images."
   ]
  },
  {
   "cell_type": "code",
   "execution_count": null,
   "id": "5665e9bc-c382-4a29-b64a-405fb16c1131",
   "metadata": {},
   "outputs": [],
   "source": [
    "import os"
   ]
  },
  {
   "cell_type": "code",
   "execution_count": null,
   "id": "54404868-024f-41ab-9bf0-60c96f66918a",
   "metadata": {},
   "outputs": [],
   "source": [
    "# dans quel dossier nous sommes\n",
    "\n",
    "os.getcwd()"
   ]
  },
  {
   "cell_type": "code",
   "execution_count": null,
   "id": "966a300e-5a88-485e-af17-f389cf7e7788",
   "metadata": {},
   "outputs": [],
   "source": [
    "# sortir d'un dossier\n",
    "\n",
    "path = \"..\""
   ]
  },
  {
   "cell_type": "code",
   "execution_count": null,
   "id": "1a9673a5-25e0-4583-9610-4d1dc25cecef",
   "metadata": {
    "tags": []
   },
   "outputs": [],
   "source": [
    "# fichiers et dossiers au bout du chemin\n",
    "\n",
    "os.listdir(path)"
   ]
  },
  {
   "cell_type": "code",
   "execution_count": null,
   "id": "a32135c4-eda6-4685-b6fa-51bbcab7d273",
   "metadata": {},
   "outputs": [],
   "source": [
    "# Cibler un dossier\n",
    "\n",
    "path = \" \""
   ]
  },
  {
   "cell_type": "code",
   "execution_count": null,
   "id": "99b43d31-f909-418f-bb9c-b521a1433782",
   "metadata": {},
   "outputs": [],
   "source": [
    "# fichiers et dossiers au bout du chemin\n",
    "\n",
    "os.listdir(path)"
   ]
  },
  {
   "cell_type": "code",
   "execution_count": null,
   "id": "7063b7b1-8bff-4a39-bdc4-9b214b15b2b7",
   "metadata": {},
   "outputs": [],
   "source": [
    "# nombre de fichiers et dossiers au bout du chemin\n",
    "\n",
    "len(os.listdir(path))"
   ]
  },
  {
   "cell_type": "markdown",
   "id": "4b4f9f01-4fb7-4d2f-9720-ed18fbab5acf",
   "metadata": {},
   "source": [
    "### Une fonction pour importer un dossier\n",
    "\n",
    "Pour importer des images et les stocker il faut principalement:\n",
    "* scanner un dossier à l'aide d'une boucle\n",
    "* lire les images une à une\n",
    "* une liste vide pour stocker les images"
   ]
  },
  {
   "cell_type": "code",
   "execution_count": null,
   "id": "4093ea90-480d-4dae-9aa0-f8a1e7c6f1ca",
   "metadata": {
    "tags": []
   },
   "outputs": [],
   "source": [
    "# Créer une boucle\n",
    "\n",
    "dossier = os.listdir(path)\n",
    "for files in dossier:\n",
    "    print(files)"
   ]
  },
  {
   "cell_type": "code",
   "execution_count": null,
   "id": "2575bcfb-80b6-4a46-8865-5f7a91a349da",
   "metadata": {},
   "outputs": [],
   "source": [
    "# Pour lire les images\n",
    "\n",
    "import cv2"
   ]
  },
  {
   "cell_type": "code",
   "execution_count": null,
   "id": "0d7d2b7b-5daa-4e62-ba12-c001bf9915b5",
   "metadata": {
    "tags": []
   },
   "outputs": [],
   "source": [
    "# Lire les images\n",
    "\n",
    "dossier = os.listdir(path)\n",
    "for files in dossier:\n",
    "    image_dossier = os.path.join(path, files) # on joint notre fichier à notre chemin\n",
    "    image = cv2.imread(image_dossier) # on utilise la fonction pour lire les images\n",
    "    print(image)"
   ]
  },
  {
   "cell_type": "code",
   "execution_count": null,
   "id": "599278ad-aae0-4c80-b3fc-9fd3ecbfa0d2",
   "metadata": {},
   "outputs": [],
   "source": [
    "# Lire et enregistrer les images\n",
    "\n",
    "liste_images = [] # on crée une liste pour y enregister nos images\n",
    "dossier = os.listdir(path)\n",
    "for files in dossier:\n",
    "    image_dossier = os.path.join(path, files)\n",
    "    image = cv2.imread(image_dossier)\n",
    "    liste_images.append(image) # après avoir lu nos images, on les enregistre\n",
    "        \n",
    "print(\"Nombre d'images : \", len(liste_images))"
   ]
  },
  {
   "cell_type": "code",
   "execution_count": null,
   "id": "0c5b0947-3298-4ee6-8c9f-cb6a46c3b0d9",
   "metadata": {},
   "outputs": [],
   "source": [
    "# Créeons une fonction simple pour importer les images d'un dossier\n",
    "\n",
    "def importer_images(path):\n",
    "    \n",
    "    liste_images = []\n",
    "    dossier = os.listdir(path)\n",
    "    for files in dossier:\n",
    "        image_dossier = os.path.join(path, files)\n",
    "        image = cv2.imread(image_dossier)\n",
    "        liste_images.append(image)\n",
    "    return liste_images"
   ]
  },
  {
   "cell_type": "code",
   "execution_count": null,
   "id": "6dfbed0b-6f76-4d10-b1a0-6f65078e0bbf",
   "metadata": {},
   "outputs": [],
   "source": [
    "# Utilisons la fonction\n",
    "\n",
    "mes_images = importer_images(path=path)"
   ]
  },
  {
   "cell_type": "code",
   "execution_count": null,
   "id": "63463a53-75f6-4ddb-b98b-2bf1e82a1fcc",
   "metadata": {},
   "outputs": [],
   "source": [
    "len(mes_images)"
   ]
  },
  {
   "cell_type": "markdown",
   "id": "2f10d674-54f0-44e9-9ace-c10bc06b3a18",
   "metadata": {},
   "source": [
    "**La fonction est simple mais pas assez robuste. Il nous faut être sûr que ce sont des images que nous importons.**"
   ]
  },
  {
   "cell_type": "markdown",
   "id": "3635f7dd-a37f-4dc3-85b4-83596fb02c94",
   "metadata": {},
   "source": [
    "### Une fonction pour importer seulement des images\n",
    "\n",
    "Pour importer uniquement les images d'un dossier, il faut ajouter des conditions à notre fonction"
   ]
  },
  {
   "cell_type": "code",
   "execution_count": null,
   "id": "482e2125-8798-4307-8e8e-e3dc899950bc",
   "metadata": {},
   "outputs": [],
   "source": [
    "# Créer une boucle avec une condition\n",
    "\n",
    "dossier = os.listdir(path)\n",
    "for files in dossier:\n",
    "    if files.endswith('.jpeg'):\n",
    "        print(files)"
   ]
  },
  {
   "cell_type": "code",
   "execution_count": null,
   "id": "ec050417-e23d-4eaa-ba02-8972fa4b22a0",
   "metadata": {
    "tags": []
   },
   "outputs": [],
   "source": [
    "# Créer une boucle avec plusieurs conditions\n",
    "\n",
    "ext = [\".jpeg\", \".png\", \".jpg\"] # choisir les extensions qui définissent nos images\n",
    "dossier = os.listdir(path)\n",
    "for files in dossier:\n",
    "    if files.endswith(tuple(ext)): # ici le code change un peu pour intégrer les extensions\n",
    "        print(files)"
   ]
  },
  {
   "cell_type": "markdown",
   "id": "037a2c21-dafd-415f-a467-e6d31a482373",
   "metadata": {},
   "source": [
    "**Profitons-en pour changer l'ordre des canaux de couleurs**"
   ]
  },
  {
   "cell_type": "code",
   "execution_count": null,
   "id": "9ab3906c-e3d0-4fd3-b713-b3ddabc141f2",
   "metadata": {},
   "outputs": [],
   "source": [
    "def importer_images(path):\n",
    "    \n",
    "    liste_images = []\n",
    "    ext = [\".jpeg\", \".png\", \".jpg\"]\n",
    "    dossier = os.listdir(path)\n",
    "    for files in dossier:\n",
    "        if files.endswith(tuple(ext)):\n",
    "            image_dossier = os.path.join(path, files)\n",
    "            image = cv2.imread(image_dossier)\n",
    "            image = cv2.cvtColor(image, cv2.COLOR_BGR2RGB)\n",
    "            liste_images.append(image)\n",
    "    return liste_images"
   ]
  },
  {
   "cell_type": "code",
   "execution_count": null,
   "id": "0bb70427-4d10-4754-aaa1-5100e8f70928",
   "metadata": {},
   "outputs": [],
   "source": [
    "# Utilisons la fonction\n",
    "\n",
    "mes_images = importer_images(path=path)"
   ]
  },
  {
   "cell_type": "code",
   "execution_count": null,
   "id": "fb3bb317-ed83-4fab-a317-ec51c06ebd86",
   "metadata": {},
   "outputs": [],
   "source": [
    "len(mes_images)"
   ]
  },
  {
   "cell_type": "markdown",
   "id": "d0a6672f-59df-415b-b2f4-197ad02751a0",
   "metadata": {},
   "source": [
    "<div class=\"alert alert-block alert-warning\">\n",
    "<b>Exercice</b>: importer un dossier contenant des images. Lorsque vous créer votre boucle, ajoutez la <b>vérification du chemin</b>. Vous ajouterez également des <b>print aux étapes qui vous paraissent importantes</b> ainsi que la ligne de <b>code ci-dessous</b> qui permet de voir la progression de la fonction.</div>"
   ]
  },
  {
   "cell_type": "code",
   "execution_count": null,
   "id": "c38b56a0-0411-4147-bb91-75429d332f89",
   "metadata": {},
   "outputs": [],
   "source": [
    "from tqdm.notebook import tqdm\n",
    "\n",
    "dossier = os.listdir(path)\n",
    "liste_images=[]\n",
    "for files in tqdm(dossier):# ajout de tqdm\n",
    "    liste_images.append(image)"
   ]
  },
  {
   "cell_type": "code",
   "execution_count": null,
   "id": "cc840ee1-bec4-4559-a6f0-f154ef669859",
   "metadata": {},
   "outputs": [],
   "source": []
  },
  {
   "cell_type": "markdown",
   "id": "78880fb3-67a5-471a-816c-644c3015dfd6",
   "metadata": {},
   "source": [
    "## **Extraire des informations**\n",
    "\n",
    "Lorsqu'on importe un dossier avec des images, il peut être utile d'en extraire les informations. Ces informations nous permettent de décrire nos données tout en rendant notre fonction plus robuste \n",
    "\n",
    "### Rappel sur les informations\n",
    "\n",
    "Les informations sont d'une part extraites et d'autres part stockées. "
   ]
  },
  {
   "cell_type": "markdown",
   "id": "a727c3e3-6de7-48ad-a8da-3c1c2557a330",
   "metadata": {},
   "source": [
    "#### Rappel sur les dictionnaires"
   ]
  },
  {
   "cell_type": "code",
   "execution_count": null,
   "id": "43171ea9-17f1-4109-a9c9-f1b4ef860a23",
   "metadata": {},
   "outputs": [],
   "source": [
    "# Rappel sur les dictionnaires\n",
    "\n",
    "# un dictionnaire se définit par des {}\n",
    "# la clé se définit sur la gauche, entre \" \"\n",
    "# entre la clé et la valeur, il y a :\n",
    "# la valeur se définit sur la droit, selon le type (str, int, float, ...)\n",
    "# entre chaque ligne, il y a une ,\n",
    "\n",
    "eleve = { \n",
    "    \"nom\" : \"Adrien\", \n",
    "    \"prenom\" : \"Jeanrenaud\"\n",
    "}"
   ]
  },
  {
   "cell_type": "code",
   "execution_count": null,
   "id": "5237c081-0b8c-4b0c-a828-42c0fa917fc3",
   "metadata": {},
   "outputs": [],
   "source": [
    "# L'objet\n",
    "\n",
    "print(eleve)"
   ]
  },
  {
   "cell_type": "code",
   "execution_count": null,
   "id": "c404f063-750e-43bd-83ab-78058334678d",
   "metadata": {},
   "outputs": [],
   "source": [
    "# Pour accéder aux éléments, par les clés\n",
    "\n",
    "print(eleve[\"nom\"])"
   ]
  },
  {
   "cell_type": "code",
   "execution_count": null,
   "id": "d0cefec3-f633-41fc-b9d8-74ee9ec7b342",
   "metadata": {},
   "outputs": [],
   "source": [
    "# passer d'un dictionnaire à un tableur\n",
    "\n",
    "import pandas as pd"
   ]
  },
  {
   "cell_type": "code",
   "execution_count": null,
   "id": "07c3ac4e-12c5-4f6d-a85a-490008ec8222",
   "metadata": {},
   "outputs": [],
   "source": [
    "df = pd.DataFrame.from_dict(eleve, orient ='index')\n",
    "df"
   ]
  },
  {
   "cell_type": "markdown",
   "id": "c813fe23-5921-4f9c-8303-02e20486e5b2",
   "metadata": {},
   "source": [
    "#### Rappel sur les informations de bases de l'image"
   ]
  },
  {
   "cell_type": "code",
   "execution_count": null,
   "id": "652974a4-2397-4fdd-bbbf-caeec814c553",
   "metadata": {},
   "outputs": [],
   "source": [
    "# commencer par choisir une image\n",
    "\n",
    "image = mes_images[0]"
   ]
  },
  {
   "cell_type": "code",
   "execution_count": null,
   "id": "dbd46bc1-2a3c-4dc6-a92b-423e78af2293",
   "metadata": {},
   "outputs": [],
   "source": [
    "# visualiser\n",
    "\n",
    "import matplotlib.pyplot as plt\n",
    "\n",
    "plt.imshow(image)\n",
    "plt.show()"
   ]
  },
  {
   "cell_type": "code",
   "execution_count": null,
   "id": "7b462a4b-62ce-4c20-b1c0-6bcdecac83b0",
   "metadata": {},
   "outputs": [],
   "source": [
    "# Est-ce une image ?\n",
    "\n",
    "type(image)"
   ]
  },
  {
   "cell_type": "code",
   "execution_count": null,
   "id": "73f52c7c-d28f-423c-950e-fba6056cde64",
   "metadata": {},
   "outputs": [],
   "source": [
    "# Quelles dimensions\n",
    "\n",
    "image.shape"
   ]
  },
  {
   "cell_type": "code",
   "execution_count": null,
   "id": "0c4cae16-8b4e-47cb-8416-50282f80fdaa",
   "metadata": {},
   "outputs": [],
   "source": [
    "# Quelle taille\n",
    "\n",
    "image.size"
   ]
  },
  {
   "cell_type": "markdown",
   "id": "554c7341-d731-4cc4-a4c3-0121c5a4a600",
   "metadata": {},
   "source": [
    "**On peut également retirer les informations à partir du chemin**"
   ]
  },
  {
   "cell_type": "code",
   "execution_count": null,
   "id": "f9d6d7d0-2763-4746-89c5-8f815d09deaf",
   "metadata": {},
   "outputs": [],
   "source": [
    "# A partir d'un chemin\n",
    "\n",
    "path = \"fauvisme1904_1908\""
   ]
  },
  {
   "cell_type": "code",
   "execution_count": null,
   "id": "0ab45b03-742d-4872-a4f5-42b92b3fe2e9",
   "metadata": {},
   "outputs": [],
   "source": [
    "# Le nom de l'image est une information importante\n",
    "\n",
    "files = os.listdir(path)\n",
    "files[:10]"
   ]
  },
  {
   "cell_type": "code",
   "execution_count": null,
   "id": "edd5bff7-822c-448a-a7c7-f0918b41b9e3",
   "metadata": {},
   "outputs": [],
   "source": [
    "# os.path.splitext, pour diviser le chemin \n",
    "# d'un côté le chemin (le nom)\n",
    "# de l'autre l'extension\n",
    "\n",
    "os.path.splitext(files[0])"
   ]
  },
  {
   "cell_type": "code",
   "execution_count": null,
   "id": "44bb1369-2646-4794-9588-1f8fdfa900c5",
   "metadata": {},
   "outputs": [],
   "source": [
    "# Récupérer les informations\n",
    "\n",
    "file, ext = os.path.splitext(files[0])"
   ]
  },
  {
   "cell_type": "code",
   "execution_count": null,
   "id": "48afb0ee-c743-4a9e-9b8b-38dd6dab964b",
   "metadata": {},
   "outputs": [],
   "source": [
    "ext"
   ]
  },
  {
   "cell_type": "code",
   "execution_count": null,
   "id": "10723177-2e97-4645-bc95-55f67e2e8f31",
   "metadata": {},
   "outputs": [],
   "source": [
    "file"
   ]
  },
  {
   "cell_type": "code",
   "execution_count": null,
   "id": "4145a2d4-8192-4e4e-8581-1a7594e2a831",
   "metadata": {},
   "outputs": [],
   "source": [
    "# Dans le titre, il y a également des informations\n",
    "\n",
    "file_info = file.split(\"_\") # choisir le caractère pour diviser\n",
    "file_info"
   ]
  },
  {
   "cell_type": "markdown",
   "id": "5c3af931-7b08-4b54-8b7a-4822ae24f4d1",
   "metadata": {},
   "source": [
    "### Extraires des informations en boucles\n",
    "\n",
    "Nous pouvons reprendre la fonction précédente et ajouter du code pour extraire et enregistrer les informations"
   ]
  },
  {
   "cell_type": "code",
   "execution_count": null,
   "id": "175057eb-7cff-4537-9af5-ee4c44813afd",
   "metadata": {},
   "outputs": [],
   "source": [
    "# Où récupérer les informations ?\n",
    "\n",
    "dossier = os.listdir(path)\n",
    "for files in dossier[:5]:\n",
    "    if files.endswith(tuple(ext)):\n",
    "        image_dossier = os.path.join(path, files)\n",
    "        file, ext = os.path.splitext(files)\n",
    "        image = cv2.imread(image_dossier)\n",
    "        print(image.shape, file, ext)"
   ]
  },
  {
   "cell_type": "code",
   "execution_count": null,
   "id": "97e32a13-0d5f-4fca-9ab5-0b93729da4a0",
   "metadata": {},
   "outputs": [],
   "source": [
    "# Tout enregistrer dans un dictionnaire\n",
    "\n",
    "liste_dic = [] # comme lorsque nous voulions enregistrer nos images, il faut une liste pour enregistrer le dictionnaire \n",
    "dossier = os.listdir(path)\n",
    "for files in dossier[:5]:\n",
    "    if files.endswith(tuple(ext)):\n",
    "        image_dossier = os.path.join(path, files)\n",
    "        file, ext = os.path.splitext(files)\n",
    "        image = cv2.imread(image_dossier)\n",
    "        dic = {\n",
    "            \"nom\": file,\n",
    "            \"ext\": ext,\n",
    "            \"hauteur\": image.shape[0],\n",
    "            \"largeur\": image.shape[1],\n",
    "            \"canaux\": image.shape[2],\n",
    "            \"taille\": image.size\n",
    "        }\n",
    "        liste_dic.append(dic)\n",
    "print(liste_dic)"
   ]
  },
  {
   "cell_type": "code",
   "execution_count": null,
   "id": "c6835385-dc30-4d8c-a9f2-bdea72053e49",
   "metadata": {},
   "outputs": [],
   "source": [
    "# passer à un tableur\n",
    "\n",
    "df = pd.DataFrame.from_dict(liste_dic)\n",
    "df"
   ]
  },
  {
   "cell_type": "markdown",
   "id": "c1b6d8f3-d46b-4648-951f-b1205e9d1b15",
   "metadata": {},
   "source": [
    "### Visualiser les informations\n",
    "\n",
    "A partir du tableur, visualiser les informations permet de dégager des tendances et comprendre le type de données à partir desquelles nous travaillons"
   ]
  },
  {
   "cell_type": "code",
   "execution_count": null,
   "id": "c2f9e601-352e-43ad-89da-940755ab2354",
   "metadata": {},
   "outputs": [],
   "source": [
    "# Quelques infos sur son tableur\n",
    "\n",
    "df.info()"
   ]
  },
  {
   "cell_type": "code",
   "execution_count": null,
   "id": "1548df15-843c-4ff1-a82e-aa166aa75c78",
   "metadata": {},
   "outputs": [],
   "source": [
    "df.describe()"
   ]
  },
  {
   "cell_type": "code",
   "execution_count": null,
   "id": "f7187e9c-ae90-4ce7-a1ec-cb63c52998ea",
   "metadata": {},
   "outputs": [],
   "source": [
    "# Accéder aux informations\n",
    "\n",
    "print(f\"Hauteur min. = {df.describe().iloc[3].hauteur} \\nLargeur min. = {df.describe().iloc[3].largeur}\")"
   ]
  },
  {
   "cell_type": "code",
   "execution_count": null,
   "id": "12733ba0-4f34-4fcf-af5c-39b9f60abd58",
   "metadata": {},
   "outputs": [],
   "source": [
    "# Sur les couleurs et les valeurs de gris \n",
    "\n",
    "canaux = df.canaux.value_counts()\n",
    "print(canaux)"
   ]
  },
  {
   "cell_type": "code",
   "execution_count": null,
   "id": "25d47cfc-76a7-499a-8777-84baa2bd3537",
   "metadata": {},
   "outputs": [],
   "source": [
    "# avec un graphique\n",
    "\n",
    "canaux.plot(kind='bar')"
   ]
  },
  {
   "cell_type": "code",
   "execution_count": null,
   "id": "aaa591c9-0c7b-4cda-a530-16330e5cdcd6",
   "metadata": {},
   "outputs": [],
   "source": [
    "df.taille.value_counts().plot(kind='bar')\n",
    "plt.xticks(rotation =45)"
   ]
  },
  {
   "cell_type": "code",
   "execution_count": null,
   "id": "c8e5dc59-0d40-4239-a30e-8d74bfbe3314",
   "metadata": {},
   "outputs": [],
   "source": [
    "# ajouter des informations sur le graphique\n",
    "\n",
    "plt.figure(figsize=(14, 8))\n",
    "df.ext.value_counts().plot(kind='bar', color=\"blue\")\n",
    "plt.xticks(rotation =45)\n",
    "plt.title(\"Extensions des images\")\n",
    "plt.xlabel('Extensions')\n",
    "plt.ylabel('Compte')\n",
    "plt.show()"
   ]
  },
  {
   "cell_type": "code",
   "execution_count": null,
   "id": "38755438-2222-4812-b6ff-cc70f637eae3",
   "metadata": {},
   "outputs": [],
   "source": [
    "# enregistrer le graphique\n",
    "\n",
    "plt.figure(figsize=(14, 8))\n",
    "df.ext.value_counts().plot(kind='bar', color=\"blue\")\n",
    "plt.xticks(rotation =45)\n",
    "plt.title(\"Extensions des images\")\n",
    "plt.xlabel('Extensions')\n",
    "plt.ylabel('Compte')\n",
    "plt.savefig(\"extensions.png\", dpi=200)"
   ]
  },
  {
   "cell_type": "code",
   "execution_count": null,
   "id": "45c48486-8bd2-4000-ae11-9467c082eb21",
   "metadata": {},
   "outputs": [],
   "source": [
    "new_rc_params = {'text.usetex': False,\n",
    "\"svg.fonttype\": 'none'\n",
    "}\n",
    "plt.rcParams.update(new_rc_params)"
   ]
  },
  {
   "cell_type": "code",
   "execution_count": null,
   "id": "da30cd94-ead3-4524-beb7-7f1a7dcdf3e3",
   "metadata": {},
   "outputs": [],
   "source": [
    "# enregistrer le graphique en SVG\n",
    "\n",
    "plt.figure(figsize=(14, 8))\n",
    "df.ext.value_counts().plot(kind='bar', color=\"blue\")\n",
    "plt.xticks(rotation =45)\n",
    "plt.title(\"Extensions des images\")\n",
    "plt.xlabel('Extensions')\n",
    "plt.ylabel('Compte')\n",
    "plt.savefig(\"extensions.svg\")"
   ]
  },
  {
   "cell_type": "markdown",
   "id": "8d4f49ea-0c1d-488d-8082-a2a336996522",
   "metadata": {},
   "source": [
    "**Lorsque le graphique est en SVG, vous pouvez le retoucher en dehors de votre code à l'aide d'un logiciel de traitement graphique. De plus, l'image a une meilleur définition.**"
   ]
  },
  {
   "cell_type": "markdown",
   "id": "7dd70f00-cbe4-4daa-8a9d-db0b6a3fca56",
   "metadata": {},
   "source": [
    "<div class=\"alert alert-block alert-warning\">\n",
    "<b>Exercice</b>: importer un dossier contenant des images. Reprenez la fonction de l'exercice précédent et ajoutez les informations sur l'image et sur le chemin. Votre fonction devra également imprimer les dimensions minimum, maximum ainsi que le nombre d'images en couleurs et en valeurs de gris.</div>"
   ]
  },
  {
   "cell_type": "code",
   "execution_count": null,
   "id": "870186c5-1be3-45b9-b1cc-6bebea245ca6",
   "metadata": {},
   "outputs": [],
   "source": []
  },
  {
   "cell_type": "code",
   "execution_count": null,
   "id": "e623c7af-3839-4ed6-ac44-726aae75c5de",
   "metadata": {},
   "outputs": [],
   "source": []
  },
  {
   "cell_type": "code",
   "execution_count": null,
   "id": "81b2ccd5-1e64-452b-9c7c-edf930e59fd5",
   "metadata": {},
   "outputs": [],
   "source": []
  },
  {
   "cell_type": "markdown",
   "id": "39f7f3ef-57cc-4bc7-aed8-6c6ee8308fb3",
   "metadata": {},
   "source": [
    "## **Travailler avec des données textuelles et visuelles**\n",
    "\n",
    "Les données textuelles sont importantes dans le traitement numérique des images. Ces données permettent de décrire l'image tout en la manipulant sur notre machine. D'une certaine manière, les données textuelles sont un préalable à la vision par ordinateur.\n",
    "\n",
    "Nous allons voir comment, à partir d'un tableur nous pouvons travailler avec des images"
   ]
  },
  {
   "cell_type": "markdown",
   "id": "31b53f89-7940-4d9c-8f8c-d9ede9f97e42",
   "metadata": {},
   "source": [
    "### Importer et visualiser un tableau de données\n",
    "\n",
    "Nous venons de le faire précédemment: visualiser et comprendre les données d'un tableur. Désormais, nous le feront à partir d'un tableur de données \"inconnues\".\n",
    "\n",
    "* importer le fichier\n",
    "* informations sur les données\n",
    "* subdiviser les données selon nos intérêts"
   ]
  },
  {
   "cell_type": "code",
   "execution_count": null,
   "id": "bdc30d98-f6e6-446c-bf4c-64eaeae68058",
   "metadata": {},
   "outputs": [],
   "source": [
    "df = pd.read_csv('wikiart_scraped.csv')"
   ]
  },
  {
   "cell_type": "code",
   "execution_count": null,
   "id": "0c4cd20a-7cc8-4c48-94cb-e1750409163b",
   "metadata": {},
   "outputs": [],
   "source": [
    "df.info()"
   ]
  },
  {
   "cell_type": "code",
   "execution_count": null,
   "id": "feba1a65-e891-43a5-848c-48c5f4ddfe8a",
   "metadata": {},
   "outputs": [],
   "source": [
    "# quels styles?\n",
    "\n",
    "df.Style.value_counts().head(50)"
   ]
  },
  {
   "cell_type": "code",
   "execution_count": null,
   "id": "f7f512c7-7713-46ab-b7e8-2764cf96c832",
   "metadata": {},
   "outputs": [],
   "source": [
    "# subdiviser les données\n",
    "\n",
    "dff = df[df[\"Style\"] == \"Fauvism\"]\n",
    "dff"
   ]
  },
  {
   "cell_type": "code",
   "execution_count": null,
   "id": "99a82957-963c-4b1d-9b82-df56fd75a0cb",
   "metadata": {},
   "outputs": [],
   "source": [
    "# quelles dates\n",
    "\n",
    "dff.Date.value_counts()"
   ]
  },
  {
   "cell_type": "markdown",
   "id": "549d9654-1a08-489d-a813-0c57de745881",
   "metadata": {},
   "source": [
    "**Visiblement nos données ne sont pas propres, il faudrait les nettoyer afin d'avoir des dates uniques**"
   ]
  },
  {
   "cell_type": "code",
   "execution_count": null,
   "id": "97ffc954-54dc-4183-b2bf-6c237569440a",
   "metadata": {},
   "outputs": [],
   "source": [
    "# Le fauvisme : entre 1904 et 1908 (?)\n",
    "\n",
    "dffy = dff[(dff[\"Date\"] == \"1904\") | (dff[\"Date\"] == \"1905\") | (dff[\"Date\"] == \"1906\")| (dff[\"Date\"] == \"1907\")| (dff[\"Date\"] == \"1908\")]\n",
    "dffy"
   ]
  },
  {
   "cell_type": "code",
   "execution_count": null,
   "id": "7f3ef210-8d59-4327-b59d-51ef94b02c5a",
   "metadata": {},
   "outputs": [],
   "source": [
    "dffy.info()"
   ]
  },
  {
   "cell_type": "markdown",
   "id": "749afa16-dfd9-443f-9240-44ebbbc70b15",
   "metadata": {},
   "source": [
    "### Télécharger les données visuelles\n",
    "\n",
    "Nous avons un tableau de données avec un lien pour télécharger les images. Lors de cette phase, le plus important est:\n",
    "\n",
    "* créer un dossier pour récupérer nos images\n",
    "* créer des noms de fichier \"robuste\"\n",
    "* lier les données textuelles et visuelles"
   ]
  },
  {
   "cell_type": "code",
   "execution_count": null,
   "id": "dc64598c-f247-4247-b710-eb663a40ed66",
   "metadata": {},
   "outputs": [],
   "source": [
    "path_images = \"fauvisme_1904_1908\"\n",
    "if not os.path.isdir(path_images):\n",
    "        os.mkdir(path_images)"
   ]
  },
  {
   "cell_type": "code",
   "execution_count": null,
   "id": "5704a988-2348-4d01-84d5-2cfaa1273f48",
   "metadata": {},
   "outputs": [],
   "source": [
    "# vérifier le chemin au dossier\n",
    "\n",
    "os.path.isdir(path_images)"
   ]
  },
  {
   "cell_type": "code",
   "execution_count": null,
   "id": "e85c1085-c6b1-4308-bf77-b12cf74f9940",
   "metadata": {},
   "outputs": [],
   "source": [
    "# créer un hash pour éviter que deux images aient le même nom\n",
    "\n",
    "dffy[\"Filename\"] = pd.util.hash_pandas_object(dffy, index=False).astype(str)"
   ]
  },
  {
   "cell_type": "code",
   "execution_count": null,
   "id": "10612e67-d036-4b3c-a476-e086a224d8a2",
   "metadata": {},
   "outputs": [],
   "source": [
    "dffy.head()"
   ]
  },
  {
   "cell_type": "code",
   "execution_count": null,
   "id": "2a1a9689-e1ee-4a92-9386-531dc38ccdf9",
   "metadata": {},
   "outputs": [],
   "source": [
    "# ajouter des informations dans le nom et une extension\n",
    "\n",
    "dffy.Filename = dffy.Filename + \"_\" + dffy.Artist.str.replace(' ', '') +\"_\"+ dffy.Date+ \".jpg\""
   ]
  },
  {
   "cell_type": "code",
   "execution_count": null,
   "id": "5994db8d-16f9-439a-ab8f-ed5b9721b216",
   "metadata": {},
   "outputs": [],
   "source": [
    "dffy.head()"
   ]
  },
  {
   "cell_type": "code",
   "execution_count": null,
   "id": "85cc87c0-ba3c-4e30-a28b-551c56b808db",
   "metadata": {},
   "outputs": [],
   "source": [
    "# créer un dicitonnaire avec le lien et le nom du fichier\n",
    "\n",
    "id_dict = dffy[['Link', 'Filename']].set_index('Link')['Filename'].to_dict()"
   ]
  },
  {
   "cell_type": "code",
   "execution_count": null,
   "id": "2ce2fab3-394d-4fc2-936f-f78e7626c9f8",
   "metadata": {
    "tags": []
   },
   "outputs": [],
   "source": [
    "id_dict"
   ]
  },
  {
   "cell_type": "code",
   "execution_count": null,
   "id": "12db7a2e-7108-4975-b6ca-ab5c3063b26b",
   "metadata": {},
   "outputs": [],
   "source": [
    "# on reprend le code du cours précédent\n",
    "\n",
    "import requests\n",
    "\n",
    "for media_url, identifier in tqdm(id_dict.items(), desc=\"Images_downloaded\"):\n",
    "    filename = os.path.join(path_images, identifier)\n",
    "    img = requests.get(media_url, stream=True).content\n",
    "    with open(filename, 'wb') as handler:\n",
    "        handler.write(img)"
   ]
  },
  {
   "cell_type": "code",
   "execution_count": null,
   "id": "c760bc3a-7f48-4816-9187-af874a6d62b9",
   "metadata": {},
   "outputs": [],
   "source": [
    "# Enregistrer le tableur\n",
    "\n",
    "dffy.to_csv(\"fauvisme1904_1908.csv\")"
   ]
  },
  {
   "cell_type": "markdown",
   "id": "6c44ba83-c355-4bab-a137-3f324b8d4ae2",
   "metadata": {},
   "source": [
    "### Viualiser les informations\n",
    "\n",
    "D'un côté nous avons les informations textuelles et les informations visuelles. Quelles données avons-nous sous la main ?"
   ]
  },
  {
   "cell_type": "code",
   "execution_count": null,
   "id": "2329cbd2-5220-4f0f-8901-e893f616212f",
   "metadata": {},
   "outputs": [],
   "source": [
    "dffy.info()"
   ]
  },
  {
   "cell_type": "code",
   "execution_count": null,
   "id": "313d3721-f3d6-4fdc-a960-00153ecd4da8",
   "metadata": {},
   "outputs": [],
   "source": [
    "dffy.Date.hist()\n",
    "plt.xticks(rotation =45)"
   ]
  },
  {
   "cell_type": "code",
   "execution_count": null,
   "id": "418867b8-8ab1-45b2-bb6f-38a444ca3dd8",
   "metadata": {},
   "outputs": [],
   "source": [
    "import matplotlib.pyplot as plt\n",
    "\n",
    "plt.figure(figsize=(14, 8))\n",
    "dffy.Artist.value_counts().plot(kind='bar', color=\"blue\")\n",
    "plt.title(\"Artistes fauves\")\n",
    "plt.xlabel('Artistes')\n",
    "plt.ylabel('Compte')\n",
    "plt.show()"
   ]
  },
  {
   "cell_type": "markdown",
   "id": "ed342e85-60d1-40e4-8af5-ee38ee27d6fe",
   "metadata": {},
   "source": [
    "<div class=\"alert alert-block alert-warning\">\n",
    "<b>Exercice</b>: importer le dossier contenant les images fauves (en liant le chemin et le nom du fichier dans le tableur) et visualiser, à l'aide d'une boucle, uniquement les réalisation de Sonia Delaunay en imprimant également le nom de le titre de l'oeuvre ainsi que la date.</div>"
   ]
  },
  {
   "cell_type": "code",
   "execution_count": null,
   "id": "1e174f91-9133-4476-b182-e653fcd411be",
   "metadata": {},
   "outputs": [],
   "source": []
  }
 ],
 "metadata": {
  "kernelspec": {
   "display_name": "Python 3",
   "language": "python",
   "name": "python3"
  },
  "language_info": {
   "codemirror_mode": {
    "name": "ipython",
    "version": 3
   },
   "file_extension": ".py",
   "mimetype": "text/x-python",
   "name": "python",
   "nbconvert_exporter": "python",
   "pygments_lexer": "ipython3",
   "version": "3.8.8"
  }
 },
 "nbformat": 4,
 "nbformat_minor": 5
}
