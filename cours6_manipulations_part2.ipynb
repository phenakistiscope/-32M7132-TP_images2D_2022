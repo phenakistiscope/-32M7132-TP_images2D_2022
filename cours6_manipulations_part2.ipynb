{
 "cells": [
  {
   "cell_type": "markdown",
   "id": "1893921d-15db-45d8-a0a0-ac4eb5ac4a26",
   "metadata": {},
   "source": [
    "# **Manipuler une image grâce au code: partie 2**\n",
    "\n",
    "## Introduction à l'analyse des images - 32M7132\n",
    "\n",
    "*Adrien Jeanrenaud (adrien.jeanrenaud@unige.ch)*"
   ]
  },
  {
   "cell_type": "markdown",
   "id": "8a199e71-33b1-4d54-b71f-f0b3d69c4b23",
   "metadata": {},
   "source": [
    "<div class=\"alert alert-block alert-info\">\n",
    "<b>Manipulations partie 2</b> : poursuite de nos explorations des images en tant que matrice:\n",
    "</div>\n",
    "\n",
    "## **Plan du cours**\n",
    "\n",
    "> **Corriger les images**\n",
    "> * La luminosité\n",
    "> * Le contraste\n",
    "\n",
    "> **Histogramme: égliser les couleurs**\n",
    "> * Qu'est-ce qu'un histogramme ?\n",
    "> * Histogramme des images 2D\n",
    "> * Histogramme des images 3D\n",
    "> * Égaliser les hisogrammes 2D et 3D\n",
    "> * Égaliser de manière adaptative\n",
    "\n",
    "> **K-means: les couleurs principales**\n",
    "> * Qu'est-ce qu'un \"k-means\"?\n",
    "> * Appliquer l'algorithme\n",
    "> * Récupérer les informations"
   ]
  },
  {
   "cell_type": "code",
   "execution_count": null,
   "id": "736f3918-59c6-4985-a10b-32e47c506144",
   "metadata": {},
   "outputs": [],
   "source": [
    "# importer les librairies nécessaires\n",
    "\n",
    "import numpy as np\n",
    "import os\n",
    "import cv2\n",
    "import matplotlib.pyplot as plt"
   ]
  },
  {
   "cell_type": "code",
   "execution_count": null,
   "id": "28981df7-73e7-45df-97f3-457d915faddd",
   "metadata": {},
   "outputs": [],
   "source": [
    "# importer une image\n",
    "\n",
    "image = \" \"\n",
    "img = cv2.imread(image)"
   ]
  },
  {
   "cell_type": "code",
   "execution_count": null,
   "id": "513741af-cc0a-4810-8047-1ceb8dd41cca",
   "metadata": {},
   "outputs": [],
   "source": [
    "# Visualiser\n",
    "\n",
    "color = cv2.cvtColor(img, cv2.COLOR_BGR2RGB)\n",
    "plt.imshow(color)\n",
    "plt.show()"
   ]
  },
  {
   "cell_type": "code",
   "execution_count": null,
   "id": "01379846-45a5-464d-9980-7e059a0b2620",
   "metadata": {},
   "outputs": [],
   "source": [
    "# et en valeurs de gros\n",
    "\n",
    "gray = cv2.cvtColor(img, cv2.COLOR_BGR2GRAY)\n",
    "plt.imshow(gray, cmap=\"gray\")\n",
    "plt.show()"
   ]
  },
  {
   "cell_type": "markdown",
   "id": "0c7a7e2c-05e8-4952-a4a1-85059e150156",
   "metadata": {},
   "source": [
    "## **1. Corriger les images**\n",
    "\n",
    "### 1.1 L'exposition\n",
    "\n",
    "Il est possible de corriger l'exposition, c'est à dire d'éclaircir ou d'assombrir une image. En utilisant le correction gamma, on contrôle la luminosité en changeant les rations RGB"
   ]
  },
  {
   "cell_type": "code",
   "execution_count": null,
   "id": "8ff34de3-b33c-4b1f-aec2-96f410570c95",
   "metadata": {},
   "outputs": [],
   "source": [
    "from skimage import exposure\n",
    "\n",
    "?exposure.adjust_gamma"
   ]
  },
  {
   "cell_type": "markdown",
   "id": "35b035ea-5bf3-422b-8274-8bc69f5b2dcc",
   "metadata": {},
   "source": [
    "**En dessous de 1, l'image s'éclaircit, en dessus de 1 elle s'assombrit**"
   ]
  },
  {
   "cell_type": "code",
   "execution_count": null,
   "id": "320a8db6-98bc-4eab-9a82-fba67550b2b3",
   "metadata": {},
   "outputs": [],
   "source": [
    "gray_gamma = exposure.adjust_gamma(gray, gamma = 2.25)"
   ]
  },
  {
   "cell_type": "code",
   "execution_count": null,
   "id": "682fd919-8c6b-4970-bc77-de3e06581461",
   "metadata": {},
   "outputs": [],
   "source": [
    "fig, (ax1,ax2) = plt.subplots(1,2, figsize = (20,10))\n",
    "                                                 \n",
    "ax1.set_title ('Image en valeurs de gris')\n",
    "ax1.imshow(gray,cmap = \"gray\")\n",
    "\n",
    "ax2.set_title ('Image transformée')\n",
    "ax2.imshow(gray_gamma,cmap = \"gray\")"
   ]
  },
  {
   "cell_type": "markdown",
   "id": "a6652e27-0b95-40ce-8b64-d411b283c95d",
   "metadata": {},
   "source": [
    "**La correction fonctionne également sur des images couleurs**"
   ]
  },
  {
   "cell_type": "code",
   "execution_count": null,
   "id": "b1cfe364-6b99-4080-8f4a-6f04e6c53227",
   "metadata": {},
   "outputs": [],
   "source": [
    "#image couleur\n",
    "color_gamma = exposure.adjust_gamma(color, gamma = 2.25)"
   ]
  },
  {
   "cell_type": "code",
   "execution_count": null,
   "id": "af55a5d0-9032-41fd-9980-45cc52098d3c",
   "metadata": {},
   "outputs": [],
   "source": [
    "fig, (ax1,ax2) = plt.subplots(1,2, figsize = (20,10))\n",
    "                                                 \n",
    "ax1.set_title ('Image en couleurs')\n",
    "ax1.imshow(color)\n",
    "\n",
    "ax2.set_title ('Image transformée')\n",
    "ax2.imshow(color_gamma)"
   ]
  },
  {
   "cell_type": "markdown",
   "id": "75fd45fc-5410-4494-a643-e8302dd50875",
   "metadata": {},
   "source": [
    "<div class=\"alert alert-block alert-danger\">\n",
    "<b>L'outil est intéressant, enfin si l'on connait notre image et ses besoins.</b>\n",
    "</div>"
   ]
  },
  {
   "cell_type": "markdown",
   "id": "42d3d95a-59e7-4783-b0b1-0feb59034475",
   "metadata": {},
   "source": [
    "### 1.2 Le contraste\n",
    "\n",
    "Le contraste définit la répartition de lumière dans l'image.\n",
    "Modifier le contraste de l'image permet d'ouvrir la fenêtre des pixels ; si les valeurs min et max on peut d'écart, il est possible d'augmenter la rangée des valeurs utilisées"
   ]
  },
  {
   "cell_type": "markdown",
   "id": "04e58774-a883-42cf-a018-ac71d614a4ba",
   "metadata": {},
   "source": [
    "#### 1.2.1 Mofifier le contraste à la main\n",
    "\n",
    "Modifier le contraste c'est appliquer une transformation point par point. On peut le faire à la main en changeant chaque point."
   ]
  },
  {
   "cell_type": "markdown",
   "id": "65e986c4-9dfc-4c52-8bdc-e85258c325e1",
   "metadata": {},
   "source": [
    "#### Modifier le contraste des images en valeurs de gris à la main"
   ]
  },
  {
   "cell_type": "code",
   "execution_count": null,
   "id": "427e7a59-1f5f-4845-83d2-2d73cde14622",
   "metadata": {},
   "outputs": [],
   "source": [
    "# Trouver les valeurs min et max \n",
    "\n",
    "ma = gray.max()\n",
    "mi = gray.min()\n",
    "print(mi,ma)"
   ]
  },
  {
   "cell_type": "code",
   "execution_count": null,
   "id": "d65694c5-7e11-46de-b573-3132853ef921",
   "metadata": {},
   "outputs": [],
   "source": [
    "# Convertir l'image en float et ouvrir la fenêtre de valeurs\n",
    "\n",
    "c = gray.astype(float)\n",
    "gray_c = 255.0*(c-mi)/(ma-mi+0.0000001).astype(int)"
   ]
  },
  {
   "cell_type": "code",
   "execution_count": null,
   "id": "7e84a00d-f5fd-44cb-a8a8-a29fa9c09761",
   "metadata": {},
   "outputs": [],
   "source": [
    "# Est-ce que ça a bien fonctionné ?\n",
    "\n",
    "ma1 = gray_c.max()\n",
    "mi1 = gray_c.min()\n",
    "print(mi1,ma1)"
   ]
  },
  {
   "cell_type": "code",
   "execution_count": null,
   "id": "6f045f9a-d894-4b6e-8391-b519d8aa114f",
   "metadata": {},
   "outputs": [],
   "source": [
    "fig, (ax1,ax2) = plt.subplots(1,2, figsize = (20,10))\n",
    "                                                 \n",
    "ax1.set_title ('Image en valeurs de gris')\n",
    "ax1.imshow(gray,cmap = \"gray\")\n",
    "\n",
    "ax2.set_title ('Image transformée')\n",
    "ax2.imshow(gray_c,cmap = \"gray\")"
   ]
  },
  {
   "cell_type": "markdown",
   "id": "21f744d8-c9e4-45f4-abc9-dab116425e77",
   "metadata": {},
   "source": [
    "#### Modifier le contraste des images en couleurs"
   ]
  },
  {
   "cell_type": "code",
   "execution_count": null,
   "id": "a47b7381-9c90-47cf-8d80-388239d515e0",
   "metadata": {},
   "outputs": [],
   "source": [
    "# On divise l'image en différents r, g, b \n",
    "\n",
    "r,g,b = cv2.split(img)"
   ]
  },
  {
   "cell_type": "code",
   "execution_count": null,
   "id": "7d2d1b18-c9a0-4337-8f48-6cc210532e9e",
   "metadata": {},
   "outputs": [],
   "source": [
    "ma = r.max()\n",
    "mi = r.min()\n",
    "print(mi,ma)\n",
    "c = r.astype(float)\n",
    "im1r = 255.0*(c-mi)/(ma-mi+0.0000001)"
   ]
  },
  {
   "cell_type": "code",
   "execution_count": null,
   "id": "a4a569c9-1df1-4fbc-b022-134cac7c568c",
   "metadata": {},
   "outputs": [],
   "source": [
    "ma = g.max()\n",
    "mi = g.min()\n",
    "print(mi,ma)\n",
    "c = g.astype(float)\n",
    "im1g = 255.0*(c-mi)/(ma-mi+0.0000001)"
   ]
  },
  {
   "cell_type": "code",
   "execution_count": null,
   "id": "cec4b110-a106-46be-a911-cd79ba657576",
   "metadata": {},
   "outputs": [],
   "source": [
    "ma = b.max()\n",
    "mi = b.min()\n",
    "print(mi,ma)\n",
    "c = b.astype(float)\n",
    "im1b = 255.0*(c-mi)/(ma-mi+0.0000001)"
   ]
  },
  {
   "cell_type": "code",
   "execution_count": null,
   "id": "6899ca02-3e9e-4460-ac17-44d2813bbf71",
   "metadata": {},
   "outputs": [],
   "source": [
    "# On remet les canaux ensemble\n",
    "# Attention à l'ordre des canaux de couleurs\n",
    "\n",
    "color_c = cv2.merge([im1b, im1g, im1r]).astype(int)\n"
   ]
  },
  {
   "cell_type": "code",
   "execution_count": null,
   "id": "678ba613-5978-41b7-a0ff-137bce729540",
   "metadata": {},
   "outputs": [],
   "source": [
    "fig, (ax1,ax2) = plt.subplots(1,2, figsize = (20,10))\n",
    "                                                 \n",
    "ax1.set_title ('Image couleur')\n",
    "ax1.imshow(color)\n",
    "\n",
    "ax2.set_title ('Image transformée')\n",
    "ax2.imshow(color_c)"
   ]
  },
  {
   "cell_type": "markdown",
   "id": "6c3f95c4-b3f2-49d0-ac26-3d32fb7f9c1d",
   "metadata": {},
   "source": [
    "<div class=\"alert alert-block alert-danger\">\n",
    "<b>Ces deux opérations sont là pour montrer qu'il est possible de modifier les valeurs de la matrice point par point.</b>\n",
    "</div>"
   ]
  },
  {
   "cell_type": "markdown",
   "id": "7d260040-2173-45db-82a9-0fcf2a504824",
   "metadata": {},
   "source": [
    "## **2. Histogramme: égliser les couleurs**\n",
    "\n",
    "### 2.1 Qu'est-ce qu'un histogramme ?\n",
    "\n",
    "Un histogramme est une manière de représenter les couleurs et les valeurs de gris pour voir leur réparition au sein de l'image. Cela permet de voir si l'image contient quantitativement plus de blanc ou plus de bleu, par exemple. Cette manière de représenter les valeurs d'une image permet également, dans un second temps, d'y appliquer une égalisation afin d'avoir une meilleure répartition des valeurs de gris ou des couleurs."
   ]
  },
  {
   "cell_type": "markdown",
   "id": "0499d36b-7e60-494d-a498-253f0d18f557",
   "metadata": {},
   "source": [
    "### 2.2 Histogramme des images 2D\n",
    "\n",
    "Quelle répartition entre noir(255) et blanc(255)?"
   ]
  },
  {
   "cell_type": "code",
   "execution_count": null,
   "id": "a60c4f1b-d802-4f1f-8c3a-e44cd99ba249",
   "metadata": {},
   "outputs": [],
   "source": [
    "# On reprend notre image en valeurs de gris\n",
    "\n",
    "gray.shape"
   ]
  },
  {
   "cell_type": "code",
   "execution_count": null,
   "id": "72bfaa5a-6aeb-45a8-80fa-1056c608a6f0",
   "metadata": {},
   "outputs": [],
   "source": [
    "# 1ère manière: avec OpenCV\n",
    "# cv2.calcHist(image, canal, masque, taille, liste des valeurs possibles)\n",
    "\n",
    "gray_hist = cv2.calcHist([gray],[0],None,[256],[0,255])\n",
    "plt.plot(gray_hist)\n",
    "plt.title(\"Histogramme avec OpenCV\")\n",
    "plt.show()"
   ]
  },
  {
   "cell_type": "code",
   "execution_count": null,
   "id": "8478b266-93dd-4be7-a5c2-99e61de406a5",
   "metadata": {},
   "outputs": [],
   "source": [
    "# 2e manière: avec Matplotlib et Numpy\n",
    "\n",
    "plt.figure(figsize=(12, 8))\n",
    "plt.hist(gray.ravel(),256,[0,255]) # ravel permet de passer d'une matrice en 2D à 1D\n",
    "plt.title(\"Histogramme avec Matplotlib et Numpy\")\n",
    "plt.show()"
   ]
  },
  {
   "cell_type": "markdown",
   "id": "8729c3a2-357f-4c23-9ce0-3f1ca1222273",
   "metadata": {},
   "source": [
    "### 2.3 Histogramme des images 3D\n",
    "\n",
    "Pour faire l'histogramme d'une image en couleurs, il faut séparer les canaux ainsi que, pour chaque matrice, la réduire à 1D."
   ]
  },
  {
   "cell_type": "code",
   "execution_count": null,
   "id": "73bfa0d9-72ac-40a0-9e5b-aa143f954de1",
   "metadata": {},
   "outputs": [],
   "source": [
    "# on reprend notre image couleur\n",
    "\n",
    "color.shape"
   ]
  },
  {
   "cell_type": "code",
   "execution_count": null,
   "id": "272ed38c-3dfd-457e-b621-6695e5a0e395",
   "metadata": {},
   "outputs": [],
   "source": [
    "# La fonction \"ravel\" permet de passer à 1D\n",
    "\n",
    "color_ravel = color.ravel()\n",
    "\n",
    "print(\"Dimensions de mon image couleur avant :  \", color.shape, \n",
    "      \"\\nDimensions de mon image couleur après la fonction ravel : \", color_ravel.shape)"
   ]
  },
  {
   "cell_type": "code",
   "execution_count": null,
   "id": "3d8fb616-9d1a-4e5c-a614-ad64f4d2275b",
   "metadata": {},
   "outputs": [],
   "source": [
    "# Est-ce que mes deux images sont égales ?\n",
    "\n",
    "color.shape[0]*color.shape[1]*color.shape[2] == color_ravel.shape[0]"
   ]
  },
  {
   "cell_type": "code",
   "execution_count": null,
   "id": "c2ee1743-7908-401d-ae27-23e3207bec5d",
   "metadata": {},
   "outputs": [],
   "source": [
    "# Histogramme de l'image couleur\n",
    "# On applique la fonction ravel à chacun des canaux de couleur\n",
    "\n",
    "plt.figure(figsize=(12, 8))\n",
    "plt.hist(color.ravel(),256,[0,256], color=\"Gray\", label=\"Couleurs\")\n",
    "plt.hist(color[:,:,0].ravel(),256,[0,256], color=\"Red\", label=\"Rouge\")\n",
    "plt.hist(color[:,:,1].ravel(),256,[0,256], color=\"Green\", label=\"Vert\")\n",
    "plt.hist(color[:,:,2].ravel(),256,[0,256], color=\"Blue\", label=\"Bleu\")\n",
    "plt.legend()\n",
    "plt.title(\"Histogramme d'une image couleur\")\n",
    "plt.show()"
   ]
  },
  {
   "cell_type": "code",
   "execution_count": null,
   "id": "00aea245-afd4-450b-ad19-fcf1f5635a4c",
   "metadata": {},
   "outputs": [],
   "source": [
    "# Avec OpenCV\n",
    "\n",
    "\n",
    "plt.figure(figsize=(12, 8))\n",
    "hist = cv2.calcHist([color.ravel()],[0],None,[256],[0,256])\n",
    "hist1 = cv2.calcHist([color],[0],None,[256],[0,256])\n",
    "hist2 = cv2.calcHist([color],[1],None,[256],[0,256])\n",
    "hist3 = cv2.calcHist([color],[2],None,[256],[0,256])\n",
    "plt.plot(hist, color=\"Gray\", label=\"Couleurs\")\n",
    "plt.plot(hist1, color=\"Red\", label=\"Rouge\")\n",
    "plt.plot(hist2, color=\"Green\", label=\"Vert\")\n",
    "plt.plot(hist3, color=\"Blue\", label=\"Bleu\")\n",
    "plt.title(\"Histogramme avec OpenCV\")\n",
    "plt.legend()\n",
    "plt.show()"
   ]
  },
  {
   "cell_type": "markdown",
   "id": "2357222d-3c10-473f-be69-b089bf5565eb",
   "metadata": {},
   "source": [
    "### 2.4 Égaliser les hisogrammes 2D et 3D\n",
    "\n",
    "Egaliser un histogramme permet d'affiner le contraste d'une image en distribuant mieux les valeurs, de cette manière l'intensité est mieux répartie."
   ]
  },
  {
   "cell_type": "code",
   "execution_count": null,
   "id": "e4aa09c4-7189-46b4-9575-d69dbfc3ba17",
   "metadata": {},
   "outputs": [],
   "source": [
    "# Histogramme de base en valeurs de gris\n",
    "\n",
    "plt.figure(figsize=(12, 8))\n",
    "gray_hist = cv2.calcHist([gray],[0],None,[256],[0,255])\n",
    "plt.plot(gray_hist)\n",
    "plt.title(\"Histogramme avec OpenCV\")\n",
    "plt.show()"
   ]
  },
  {
   "cell_type": "code",
   "execution_count": null,
   "id": "59da1acb-b50a-457d-9d7d-cb827fcfe6cc",
   "metadata": {},
   "outputs": [],
   "source": [
    "?cv2.equalizeHist"
   ]
  },
  {
   "cell_type": "code",
   "execution_count": null,
   "id": "e1763122-e964-4d4c-a220-9937783e44e0",
   "metadata": {},
   "outputs": [],
   "source": [
    "# Histogramme égalisé\n",
    "\n",
    "plt.figure(figsize=(12, 8))\n",
    "gray_equ = cv2.equalizeHist(gray)\n",
    "gray_equ_hist = cv2.calcHist([gray_equ],[0],None,[256],[0,255])\n",
    "plt.plot(gray_equ_hist)\n",
    "plt.title(\"Histogramme égalisé\")\n",
    "plt.show()"
   ]
  },
  {
   "cell_type": "code",
   "execution_count": null,
   "id": "88360e4e-7032-4dcc-bb4a-623c94f78488",
   "metadata": {},
   "outputs": [],
   "source": [
    "# Comparaison des histogrammes\n",
    "\n",
    "plt.figure(figsize=(12, 8))\n",
    "gray_hist = cv2.calcHist([gray],[0],None,[256],[0,255])\n",
    "gray_equ = cv2.equalizeHist(gray)\n",
    "gray_equ_hist = cv2.calcHist([gray_equ],[0],None,[256],[0,255])\n",
    "plt.plot(gray_hist, color=\"Gray\", label=\"Image de base\")\n",
    "plt.plot(gray_equ_hist, color=\"Orange\", label=\"Image égalisée\")\n",
    "plt.title(\"Comparaison des histogrammes\")\n",
    "plt.legend()\n",
    "plt.show()"
   ]
  },
  {
   "cell_type": "code",
   "execution_count": null,
   "id": "6b38b896-c714-4b97-b5d5-af829f1a744c",
   "metadata": {},
   "outputs": [],
   "source": [
    "fig, (ax1,ax2) = plt.subplots(1,2, figsize = (20,10))\n",
    "                                                 \n",
    "ax1.set_title ('Image en valeurs de gris')\n",
    "ax1.imshow(gray, cmap=\"gray\")\n",
    "\n",
    "ax2.set_title ('Image égalisée')\n",
    "ax2.imshow(gray_equ, cmap=\"gray\")"
   ]
  },
  {
   "cell_type": "code",
   "execution_count": null,
   "id": "84effcc3-4977-43c0-b10f-90a0adbdd8c7",
   "metadata": {},
   "outputs": [],
   "source": [
    "# Cela fonctionne également avec les couleurs\n",
    "\n",
    "R, G, B = cv2.split(color)\n",
    "\n",
    "R_equ = cv2.equalizeHist(R)\n",
    "G_equ = cv2.equalizeHist(G)\n",
    "B_equ = cv2.equalizeHist(B)\n",
    "color_equ = cv2.merge((R_equ, G_equ, B_equ))\n",
    "\n",
    "plt.figure(figsize=(12, 8))\n",
    "hist = cv2.calcHist([color.ravel()],[0],None,[256],[0,255])\n",
    "hist_equ = cv2.calcHist([color_equ.ravel()],[0],None,[256],[0,255])\n",
    "plt.plot(hist, color=\"Gray\", label=\"Image de base\")\n",
    "plt.plot(hist_equ, color=\"Orange\", label=\"Image égalisée\")\n",
    "plt.title(\"Comparaison des histogrammes\")\n",
    "plt.legend()\n",
    "plt.show()"
   ]
  },
  {
   "cell_type": "code",
   "execution_count": null,
   "id": "fec94847-1d72-427d-89fa-28b2fa0007b4",
   "metadata": {},
   "outputs": [],
   "source": [
    "fig, (ax1,ax2) = plt.subplots(1,2, figsize = (20,10))\n",
    "                                                 \n",
    "ax1.set_title ('Image en couleurs')\n",
    "ax1.imshow(color)\n",
    "\n",
    "ax2.set_title ('Image égalisée')\n",
    "ax2.imshow(color_equ)"
   ]
  },
  {
   "cell_type": "markdown",
   "id": "85064638-841b-42f0-8a13-320b4405f71e",
   "metadata": {},
   "source": [
    "### 2.5 Égaliser de manière adaptative\n",
    "\n",
    "L'égalisation adaptative prend en compte les différentes régions de l'image en adaptant localement l'égalisation."
   ]
  },
  {
   "cell_type": "code",
   "execution_count": null,
   "id": "54ad71cb-ffc3-4330-b5d8-8a45d9002b37",
   "metadata": {},
   "outputs": [],
   "source": [
    "?exposure.equalize_adapthist"
   ]
  },
  {
   "cell_type": "code",
   "execution_count": null,
   "id": "9f7055da-a397-4339-b989-549152b33e4e",
   "metadata": {},
   "outputs": [],
   "source": [
    "# Avec une image en valeurs de gris\n",
    "# Plus le clip_limit est haut, plus il y a de contraste (entre 0 et 1)\n",
    "\n",
    "gray_hist_adapt = exposure.equalize_adapthist(gray, kernel_size=None, clip_limit=0.8, nbins=256)"
   ]
  },
  {
   "cell_type": "code",
   "execution_count": null,
   "id": "808a525d-eca6-4857-b3e0-15d2c7496aff",
   "metadata": {},
   "outputs": [],
   "source": [
    "fig, (ax1,ax2) = plt.subplots(1,2, figsize = (20,10))\n",
    "                                                 \n",
    "ax1.set_title ('Image en valeurs de gris')\n",
    "ax1.imshow(gray, cmap=\"gray\")\n",
    "\n",
    "ax2.set_title ('Image égalisée de manière adaptative')\n",
    "ax2.imshow(gray_hist_adapt, cmap=\"gray\")"
   ]
  },
  {
   "cell_type": "code",
   "execution_count": null,
   "id": "e05faba3-acb9-42c7-a486-53ceb219e7e9",
   "metadata": {},
   "outputs": [],
   "source": [
    "# Comparaison entre égalisation adaptative de l'histogramme et égalisation de l'histogramme\n",
    "\n",
    "## Valeurs de gris\n",
    "\n",
    "# histogramme en valeurs de gris\n",
    "gray_calc_hist = exposure.histogram(gray, nbins=256) # calcul de l'histogramme\n",
    "\n",
    "# égalisation adaptative de l'histogramme en valeurs de gris\n",
    "gray_histEA = exposure.equalize_adapthist(gray, kernel_size=None, clip_limit=0.1, nbins=256)\n",
    "gray_calc_histEA = exposure.histogram(gray_histEA, nbins=256) # calcul de l'histogramme\n",
    "\n",
    "# égalisation de l'histogramme en valeurs de gris\n",
    "gray_histE = exposure.equalize_hist(gray, nbins=256)\n",
    "gray_calc_histE = exposure.histogram(gray_histE, nbins=256) #calcul de l'histogramme\n",
    "\n",
    "\n"
   ]
  },
  {
   "cell_type": "code",
   "execution_count": null,
   "id": "2e168595-d8fe-4e7c-ba77-26e43258cc8d",
   "metadata": {},
   "outputs": [],
   "source": [
    "# Visualiser l'histogramme en valeurs de gris et les deux égalisations \n",
    "\n",
    "plt.figure(figsize=(12, 8))\n",
    "plt.plot(gray_calc_hist[0], color=\"Gray\", label=\"Image de base\")\n",
    "plt.plot(gray_calc_histEA[0], color=\"Red\", label=\"Image égalisée de manière adaptative\")\n",
    "plt.plot(gray_calc_histE[0], color=\"Orange\", label=\"Image égalisée\")\n",
    "plt.title(\"Comparaison des histogrammes en valeurs de gris\")\n",
    "plt.legend()\n",
    "plt.show()"
   ]
  },
  {
   "cell_type": "code",
   "execution_count": null,
   "id": "46894c3a-9f70-4d0d-934f-7e29cbf339da",
   "metadata": {},
   "outputs": [],
   "source": [
    "#image couleur\n",
    "\n",
    "color_hist_equ = exposure.equalize_adapthist(color, kernel_size=None, clip_limit=1)"
   ]
  },
  {
   "cell_type": "code",
   "execution_count": null,
   "id": "cb217da0-2ae9-4eb7-aece-4a7f024cd6fa",
   "metadata": {},
   "outputs": [],
   "source": [
    "fig, (ax1,ax2) = plt.subplots(1,2, figsize = (20,10))\n",
    "                                                 \n",
    "ax1.set_title ('Image en couleurs')\n",
    "ax1.imshow(color)\n",
    "\n",
    "ax2.set_title ('Image égalisée de manière adaptative')\n",
    "ax2.imshow(color_hist_equ)"
   ]
  },
  {
   "cell_type": "markdown",
   "id": "07f5fb8a-476d-4b93-8d9d-625897a64fe0",
   "metadata": {},
   "source": [
    "## **3. K-means: les couleurs principales**\n",
    "\n",
    "\n",
    "### 3.1 Qu'est-ce qu'un \"k-means\"?\n",
    "\n",
    "K-means, ou k-moyenne en français, est une méthode pour séparer ses données, en choisissant le nombre de regroupements (cluster) à avoir au final (k).\n",
    "C'est un alogrithme non-supervisé, c'est-à-dire qu'il ne sait pas à quelle classe appartient chacun des points qu'on lui donne. Il va donc attribuer une classe à chacun de nos points.\n",
    "\n",
    "<img src=\"https://external-content.duckduckgo.com/iu/?u=https%3A%2F%2Fmiro.medium.com%2Fproxy%2F0*G7LC_oXt4mNzavMe.jpg&f=1&nofb=1&ipt=a7daeb356e10138e7791820e5e1eddf8b9f42cebcf851eb34e8e9f50e9b130b9&ipo=images\" title=\"k-means\"/>\n",
    "\n",
    "**L'algorithme s'applique à divers types de données, dont les images** \n",
    "\n",
    "<img src=\"https://external-content.duckduckgo.com/iu/?u=https%3A%2F%2Failephant.com%2Fwp-content%2Fuploads%2F2020%2F08%2Fdominant-colors-kmeans.jpg&f=1&nofb=1&ipt=1f1296a10a4aad084e690da2781ff4b1bcf2e78b83041ea69714938b85900beb&ipo=images\" title=\"k-means2\"/>"
   ]
  },
  {
   "cell_type": "code",
   "execution_count": null,
   "id": "86415655-57fc-4c17-ac3b-1e4202e87e56",
   "metadata": {},
   "outputs": [],
   "source": [
    "from sklearn.cluster import KMeans\n",
    "from kneed import KneeLocator\n",
    "from sklearn.datasets import make_blobs\n",
    "from sklearn.cluster import KMeans\n",
    "from sklearn.metrics import silhouette_score\n",
    "from sklearn.preprocessing import StandardScaler"
   ]
  },
  {
   "cell_type": "markdown",
   "id": "1c9b610a-a1d4-4c45-a44e-28b45276edcb",
   "metadata": {},
   "source": [
    "### 3.2 Appliquer l'algorithme"
   ]
  },
  {
   "cell_type": "code",
   "execution_count": null,
   "id": "5be88706-0c36-483c-9262-ee192659f394",
   "metadata": {},
   "outputs": [],
   "source": [
    "# on reprend son image couleur\n",
    "\n",
    "plt.imshow(color)\n",
    "plt.show()"
   ]
  },
  {
   "cell_type": "code",
   "execution_count": null,
   "id": "15c3a325-664d-4e72-a607-c63bca5fff3c",
   "metadata": {},
   "outputs": [],
   "source": [
    "# d'abord il faut passer d'une image 3D à une image 2D\n",
    "(h,w,c) = color.shape\n",
    "img2D = color.reshape(h*w,c)\n",
    "print(img2D)\n",
    "print(img2D.shape)"
   ]
  },
  {
   "cell_type": "code",
   "execution_count": null,
   "id": "0e02d963-a05a-414b-8e3a-df127b0ddd87",
   "metadata": {},
   "outputs": [],
   "source": [
    "# On choisit le nombre de regroupements (clusters) à l'aide du k\n",
    "\n",
    "n = 6\n",
    "kmeans_model = KMeans(n_clusters=n)"
   ]
  },
  {
   "cell_type": "code",
   "execution_count": null,
   "id": "46f05def-a9d8-4a7c-b1ab-d79da5a8948d",
   "metadata": {},
   "outputs": [],
   "source": [
    "# On applique l'algorithme à notre image\n",
    "\n",
    "s=kmeans_model.fit(img2D)\n",
    "cluster_labels = kmeans_model.fit_predict(img2D)"
   ]
  },
  {
   "cell_type": "code",
   "execution_count": null,
   "id": "438e018c-ad83-4c6a-907e-071f16412434",
   "metadata": {},
   "outputs": [],
   "source": [
    "# On peut voir combien de pixels il y a par regroupemets\n",
    "\n",
    "from collections import Counter\n",
    "labels_count = Counter(cluster_labels)\n",
    "print(labels_count)"
   ]
  },
  {
   "cell_type": "code",
   "execution_count": null,
   "id": "d60d94e1-d401-4bcd-86b3-5b10aa25d7e6",
   "metadata": {},
   "outputs": [],
   "source": [
    "# On peut voir quels sont les centres des regroupements, donc les couleurs\n",
    "\n",
    "rgb_cols = kmeans_model.cluster_centers_.round(0).astype(int)\n",
    "\n",
    "print(rgb_cols)"
   ]
  },
  {
   "cell_type": "code",
   "execution_count": null,
   "id": "6632f587-c994-43a7-9635-5fdfe683c78f",
   "metadata": {},
   "outputs": [],
   "source": [
    "# L'image est désormais faite de \"k\" couleurs\n",
    "img_quant = np.reshape(rgb_cols[cluster_labels],(h,w,c))"
   ]
  },
  {
   "cell_type": "code",
   "execution_count": null,
   "id": "02386c8f-de16-410f-bb72-0f10793a7206",
   "metadata": {},
   "outputs": [],
   "source": [
    "fig, ax = plt.subplots(1,2, figsize=(16,12))\n",
    "ax[0].imshow(color)\n",
    "ax[0].set_title('Image en couleur')\n",
    "ax[1].imshow(img_quant)\n",
    "ax[1].set_title(f'Image avec un k-means = {n}')"
   ]
  },
  {
   "cell_type": "markdown",
   "id": "cbb85fbf-bad7-4b4f-a4fb-69e6f09aa3aa",
   "metadata": {},
   "source": [
    "<div class=\"alert alert-block alert-danger\">\n",
    "<b>Cette méthode à l'intérêt de donner des informations concises sur les couleurs d'une image. Toutefois la méthode a ses défaut. Principalement au niveau du choix du nombre de regroupements, même s'il existe des outils pour s'y retrouver</b>.\n",
    "</div>"
   ]
  },
  {
   "cell_type": "markdown",
   "id": "e59ed94f-b6dc-4943-8000-492196a501dc",
   "metadata": {},
   "source": [
    "### 3.3 Récupérer les informations"
   ]
  },
  {
   "cell_type": "code",
   "execution_count": null,
   "id": "38b40f1a-20ee-4a22-a38e-3eae751c6e7b",
   "metadata": {},
   "outputs": [],
   "source": [
    "per = [] # ajout\n",
    "colors = [] # ajout\n",
    "percentages = (np.unique(kmeans_model.labels_,return_counts=True)[1])/img2D.shape[0]\n",
    "p_and_c = zip(percentages,rgb_cols)\n",
    "p_and_c = sorted(p_and_c,reverse=True)\n",
    "\n",
    "block = np.ones((50,50,3),dtype='uint')\n",
    "plt.figure(figsize=(12,8))\n",
    "for i in range(n):\n",
    "    per.append((round(p_and_c[i][0]*100,2))) # ajout\n",
    "    colors.append((p_and_c[i][1]).tolist()) # ajout\n",
    "    plt.subplot(1,n,i+1)\n",
    "    block[:] = p_and_c[i][1]\n",
    "    plt.imshow(block)\n",
    "    plt.xticks([])\n",
    "    plt.yticks([])\n",
    "    plt.xlabel(str(round(p_and_c[i][0]*100,2))+'%')\n",
    "\n",
    "\n",
    "bar = np.ones((50,500,3),dtype='uint')\n",
    "plt.figure(figsize=(12,8))\n",
    "plt.title(f'Proportions of colors in the image (k-means={n})')\n",
    "start = 0\n",
    "i = 1\n",
    "for p,c in p_and_c:\n",
    "    end = start+int(p*bar.shape[1])\n",
    "    if i==n:\n",
    "        bar[:,start:] = c[::1]\n",
    "    else:\n",
    "        bar[:,start:end] = c[::1]\n",
    "    start = end\n",
    "    i+=1\n",
    "\n",
    "#plt.savefig(\" \")\n",
    "plt.imshow(bar)"
   ]
  },
  {
   "cell_type": "code",
   "execution_count": null,
   "id": "95c3b0ce-85ab-4ff3-92ce-c15fc644f988",
   "metadata": {},
   "outputs": [],
   "source": [
    "# on peut également récupérer les informations sous type de tableur\n",
    "\n",
    "infos = {\n",
    "      \"nom\": image,\n",
    "      \"couleurs\": colors,\n",
    "      \"pourcentages\": per\n",
    "  }"
   ]
  },
  {
   "cell_type": "code",
   "execution_count": null,
   "id": "1f9dbe46-6dbc-4c98-9d13-f62788f6621e",
   "metadata": {},
   "outputs": [],
   "source": [
    "infos"
   ]
  },
  {
   "cell_type": "code",
   "execution_count": null,
   "id": "cae072ad-7de4-4bcb-a463-ad47443152b6",
   "metadata": {},
   "outputs": [],
   "source": [
    "# transformer en Dataframe\n",
    "\n",
    "import pandas as pd\n",
    "df = pd.DataFrame.from_dict(infos, orient=\"index\").T\n",
    "df"
   ]
  },
  {
   "cell_type": "markdown",
   "id": "30e5f20f-7e34-4abb-b87d-8fed72d939b1",
   "metadata": {},
   "source": [
    "<div class=\"alert alert-block alert-warning\">\n",
    "<b>Exercice pour le prochain cours</b>: à partir d'une image couleur, vous devez appliquer les différentes transformations vues pendant le cours. Lorsque vous aurez vos quatres images (exposition, contraste, égalisation et égalisation adaptative) appliquez l'algorithme k-means et commentez les différences entre les couleurs dominantes.</div>"
   ]
  },
  {
   "cell_type": "code",
   "execution_count": null,
   "id": "90c111ad-f632-4950-b84f-aff07e91803c",
   "metadata": {},
   "outputs": [],
   "source": []
  }
 ],
 "metadata": {
  "kernelspec": {
   "display_name": "image",
   "language": "python",
   "name": "image"
  },
  "language_info": {
   "codemirror_mode": {
    "name": "ipython",
    "version": 3
   },
   "file_extension": ".py",
   "mimetype": "text/x-python",
   "name": "python",
   "nbconvert_exporter": "python",
   "pygments_lexer": "ipython3",
   "version": "3.8.13"
  }
 },
 "nbformat": 4,
 "nbformat_minor": 5
}
