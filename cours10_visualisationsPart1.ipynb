{
 "cells": [
  {
   "cell_type": "markdown",
   "id": "36f8d722-d554-447d-bf0d-c1619927f0a2",
   "metadata": {},
   "source": [
    "# **Visualiser des images: partie 1**\n",
    "\n",
    "## Introduction à l'analyse des images - 32M7132\n",
    "\n",
    "*Adrien Jeanrenaud (adrien.jeanrenaud@unige.ch)*"
   ]
  },
  {
   "cell_type": "markdown",
   "id": "fd728c19-2c34-45ba-832f-9149425dfb8d",
   "metadata": {},
   "source": [
    "<div class=\"alert alert-block alert-info\">\n",
    "<b>Visualiser des images partie 1</b> : dernière étape de notre voyage des le traitement numériques des images en deux dimensions. Après avoir traité nos images et en avoir extrait des informations, il est nécessaire de les rendre visibles. Python permet de visualiser les images en quantité. La manière dont elles peuvent être disposées permet également de retirer des informations\n",
    "</div>\n",
    "\n",
    "## **Plan du cours**\n",
    "\n",
    "> **Corrigé de l'exercice**\n",
    "> * Du dossier au notebook\n",
    "> * Visualiser avec les informations\n",
    "\n",
    "> **Visualiser avec matplotlib**\n",
    "> * Visualiser un boucle\n",
    "> * Les images sur un graphique\n",
    "> * Visualiser l'image et ses informations\n",
    "> * Enregistrer ses visualisation \n",
    "\n",
    "> **Visualiser en mosaïque**\n",
    "> * Une mosïque d'images redimensionnées\n",
    "> * Concaténation verticale\n",
    "> * Concaténation horizontale\n",
    "> * Une fonction pour faire des mosaïques ?\n"
   ]
  },
  {
   "cell_type": "code",
   "execution_count": null,
   "id": "c6af6500-18b0-41ce-91fd-4911d4191178",
   "metadata": {},
   "outputs": [],
   "source": [
    "# importer les librairies nécessaires\n",
    "\n",
    "import numpy as np\n",
    "import os\n",
    "import pandas as pd\n",
    "import cv2\n",
    "import matplotlib.pyplot as plt"
   ]
  },
  {
   "cell_type": "markdown",
   "id": "1d422ecd-e776-4e20-9029-5e4ca82af78c",
   "metadata": {},
   "source": [
    "## **Corrigé de l'exercice**\n",
    "\n",
    "Avant de corriger l'exercice, revenons sur le contenu de la semaine dernière.\n",
    "\n",
    "### Du dossier au notebook\n",
    "\n",
    "D'abord un petit rappel sur la fonction qui permet d'importer les images depuis un dossier sur notre notebook avec Python (si nécessaire)."
   ]
  },
  {
   "cell_type": "code",
   "execution_count": null,
   "id": "7dceb27b-a6d9-4884-8def-b4a5922e9541",
   "metadata": {},
   "outputs": [],
   "source": [
    "def importer_images(path):\n",
    "    \n",
    "    liste_images = []\n",
    "    ext = [\".jpeg\", \".png\", \".jpg\"]\n",
    "    dossier = os.listdir(path)\n",
    "    for files in dossier:\n",
    "        if files.endswith(tuple(ext)):\n",
    "            image_dossier = os.path.join(path, files)\n",
    "            image = cv2.imread(image_dossier)\n",
    "            image = cv2.cvtColor(image, cv2.COLOR_BGR2RGB)\n",
    "            liste_images.append(image)\n",
    "    return liste_images"
   ]
  },
  {
   "cell_type": "code",
   "execution_count": null,
   "id": "e77691b3-d27b-44f8-b920-7fa4d92c6d7f",
   "metadata": {},
   "outputs": [],
   "source": [
    "# dans quel dossier nous sommes\n",
    "\n",
    "os.getcwd()"
   ]
  },
  {
   "cell_type": "code",
   "execution_count": null,
   "id": "db25adf5-c2a3-42f5-b4b9-ae5cba92a185",
   "metadata": {},
   "outputs": [],
   "source": [
    "# fichiers et dossiers où nous sommes\n",
    "\n",
    "os.listdir(\".\")"
   ]
  },
  {
   "cell_type": "code",
   "execution_count": null,
   "id": "e819a4b8-8f0b-4b41-9389-ab4a6d0fa41a",
   "metadata": {},
   "outputs": [],
   "source": [
    "# Utilisons la fonction\n",
    "\n",
    "mes_images = importer_images(path=\"fauvisme1904_1908\")"
   ]
  },
  {
   "cell_type": "code",
   "execution_count": null,
   "id": "22b6f3cf-00fe-42dc-a577-19765840be1c",
   "metadata": {},
   "outputs": [],
   "source": [
    "len(mes_images)"
   ]
  },
  {
   "cell_type": "markdown",
   "id": "3b80558f-92bb-49f9-9cba-ce005335b361",
   "metadata": {},
   "source": [
    "### Visualiser avec les informations\n",
    "\n",
    "<div class=\"alert alert-block alert-warning\">\n",
    "<b>Exercice</b>: importer le dossier contenant les images fauves (en liant le chemin et le nom du fichier dans le tableur) et visualiser, à l'aide d'une boucle, uniquement les réalisation de Sonia Delaunay en imprimant également le nom de le titre de l'oeuvre ainsi que la date.</div>"
   ]
  },
  {
   "cell_type": "code",
   "execution_count": null,
   "id": "96fe5150-1558-4bb3-b631-b9289e557d22",
   "metadata": {},
   "outputs": [],
   "source": [
    "# importer le csv\n",
    "\n",
    "df = pd.read_csv(\"fauvisme1904_1908.csv\", index_col=[0])"
   ]
  },
  {
   "cell_type": "code",
   "execution_count": null,
   "id": "4b80c6d5-5ff5-42c1-acbe-027fd6439439",
   "metadata": {},
   "outputs": [],
   "source": [
    "df.head()"
   ]
  },
  {
   "cell_type": "code",
   "execution_count": null,
   "id": "ed3655d1-8987-4e5d-a302-d0c4f42e75c8",
   "metadata": {},
   "outputs": [],
   "source": [
    "# Appliquer un masque\n",
    "\n",
    "dff = df[df[\"Artist\"] == \"Sonia Delaunay\"]\n",
    "dff.head()"
   ]
  },
  {
   "cell_type": "code",
   "execution_count": null,
   "id": "2e265616-3b2d-4d5d-bce8-c2cda81ebbec",
   "metadata": {
    "tags": []
   },
   "outputs": [],
   "source": [
    "# Récupérer le nom des fichiers dans une liste\n",
    "\n",
    "fname = dff.Filename.tolist()\n",
    "fname"
   ]
  },
  {
   "cell_type": "code",
   "execution_count": null,
   "id": "ae92a65c-0c8f-4f8b-9d21-600b0252bc42",
   "metadata": {},
   "outputs": [],
   "source": [
    "# A chaque nom, ajouter le chemin qui mène au dossier\n",
    "\n",
    "dname = \"fauvisme1904_1908\"\n",
    "files = []\n",
    "for i in fname:\n",
    "    path = os.path.join(dname,i)\n",
    "    files.append(path)\n",
    "files"
   ]
  },
  {
   "cell_type": "code",
   "execution_count": null,
   "id": "b010cabf-8bdb-47b2-ac87-f7623a529888",
   "metadata": {},
   "outputs": [],
   "source": [
    "# Importer les images et les visualiser avec leur titre et date\n",
    "\n",
    "dname = \"fauvisme1904_1908\"\n",
    "for index, row in dff.iterrows():\n",
    "    \n",
    "    print(f\"Date : {row.Date} \\nArtwork : {row.Artwork}\")\n",
    "    \n",
    "    \n",
    "    path = os.path.join(dname, row.Filename)\n",
    "    image = cv2.imread(path)\n",
    "    image = cv2.cvtColor(image, cv2.COLOR_BGR2RGB)\n",
    "    \n",
    "    plt.imshow(image)\n",
    "    plt.show()"
   ]
  },
  {
   "cell_type": "code",
   "execution_count": null,
   "id": "637096c1-8106-4141-8daf-bfe3281899bd",
   "metadata": {},
   "outputs": [],
   "source": []
  },
  {
   "cell_type": "markdown",
   "id": "ecd268c9-942e-49e7-9a64-0bb8cf4eaccc",
   "metadata": {},
   "source": [
    "## **Visualiser avec matplotlib**\n",
    "\n",
    "Matplotlib permet de visualiser les images en enfilade comme vu précédement. La librairie permet également de créer des graphiques auxquels il est possible d'ajouter des informations à l'image.\n",
    "\n",
    "### Visualiser un boucle\n",
    "\n",
    "Variante de visualisation en boucle"
   ]
  },
  {
   "cell_type": "code",
   "execution_count": null,
   "id": "98cba801-e0fe-47c5-8150-b2707fcf9b7a",
   "metadata": {},
   "outputs": [],
   "source": [
    "#Reprendre ma liste d'images\n",
    "\n",
    "len(mes_images)"
   ]
  },
  {
   "cell_type": "code",
   "execution_count": null,
   "id": "766332b4-a73d-4cbc-8453-b734737ef983",
   "metadata": {},
   "outputs": [],
   "source": [
    "# Visualiser les 10 première\n",
    "\n",
    "for i in mes_images[:10]:\n",
    "    plt.imshow(i)\n",
    "    plt.show()"
   ]
  },
  {
   "cell_type": "markdown",
   "id": "caeff18f-235d-43d3-8878-58a14feabfa6",
   "metadata": {},
   "source": [
    "### Les images sur un graphique\n",
    "\n",
    "Cette librairie permet principalement de faire des graphiques. C'est une manière de visualiser les images"
   ]
  },
  {
   "cell_type": "code",
   "execution_count": null,
   "id": "b4b3c008-d4c4-4b73-9284-2bcd437c01c9",
   "metadata": {},
   "outputs": [],
   "source": [
    "# visualiser deux images face à face\n",
    "\n",
    "fig, ax = plt.subplots(1,2, figsize=(16,12))\n",
    "ax[0].imshow(mes_images[0])\n",
    "ax[0].set_title('Image 1')\n",
    "ax[1].imshow(mes_images[1])\n",
    "ax[1].set_title('Image 2')"
   ]
  },
  {
   "cell_type": "code",
   "execution_count": null,
   "id": "fd6cf231-9eda-4316-bf88-37f62d285129",
   "metadata": {},
   "outputs": [],
   "source": [
    "# visualiser 3 images\n",
    "\n",
    "plt.figure(figsize=(15,10))\n",
    "plt.subplot(131); plt.imshow(mes_images[0]); plt.title(\"image 1\");\n",
    "plt.subplot(132); plt.imshow(mes_images[1]); plt.title(\"image 2\")\n",
    "plt.subplot(133); plt.imshow(mes_images[2]); plt.title(\"image 3\")\n",
    "plt.show()"
   ]
  },
  {
   "cell_type": "code",
   "execution_count": null,
   "id": "2e2063a9-af0b-4ff6-a163-da5f6baa4fe4",
   "metadata": {},
   "outputs": [],
   "source": [
    "# visualiser 4 images\n",
    "\n",
    "plt.figure(figsize=(20,12))\n",
    "plt.subplot(221), plt.imshow(mes_images[0]), plt.axis('off'), plt.title('image 1', size=20)\n",
    "plt.subplot(222), plt.imshow(mes_images[1]), plt.axis('off'), plt.title('image 2', size=20)\n",
    "plt.subplot(223), plt.imshow(mes_images[2]), plt.axis('off'), plt.title('image 3', size=20)\n",
    "plt.subplot(224), plt.imshow(mes_images[3]), plt.axis('off'), plt.title('image 4', size=20)\n",
    "plt.suptitle('Mes images', size=25)\n",
    "plt.show()"
   ]
  },
  {
   "cell_type": "markdown",
   "id": "57f63803-3172-4f14-bdd6-74ceecb9f8fb",
   "metadata": {},
   "source": [
    "### Visualiser l'image et ses informations\n",
    "\n",
    "La méthode précdente n'est pas très automatisé, surtout au niveau des métadonnées."
   ]
  },
  {
   "cell_type": "code",
   "execution_count": null,
   "id": "1478e58b-4033-4776-a27e-b3632f5fcd72",
   "metadata": {},
   "outputs": [],
   "source": [
    "# On reprend notre dataframe avec Sonia Delaunay\n",
    "\n",
    "dff"
   ]
  },
  {
   "cell_type": "code",
   "execution_count": null,
   "id": "33cb0291-878f-4762-95d3-8da635f7cea0",
   "metadata": {},
   "outputs": [],
   "source": [
    "dff.Filename.iloc[0]"
   ]
  },
  {
   "cell_type": "code",
   "execution_count": null,
   "id": "753765ac-4531-429b-964f-4a2d35211df6",
   "metadata": {},
   "outputs": [],
   "source": [
    "# visualiser mes 3 images\n",
    "\n",
    "plt.figure(figsize=(15,10))\n",
    "# 1 ligne, 3 colones\n",
    "plt.subplot(131); plt.imshow(cv2.cvtColor(cv2.imread(os.path.join(dname, dff.Filename.iloc[0])), cv2.COLOR_BGR2RGB)); plt.title(f\"{dff.Artwork.iloc[0]}, {dff.Date.iloc[0]}\");\n",
    "plt.subplot(132); plt.imshow(cv2.cvtColor(cv2.imread(os.path.join(dname, dff.Filename.iloc[1])), cv2.COLOR_BGR2RGB)); plt.title(f\"{dff.Artwork.iloc[1]}, {dff.Date.iloc[1]}\")\n",
    "plt.subplot(133); plt.imshow(cv2.cvtColor(cv2.imread(os.path.join(dname, dff.Filename.iloc[2])), cv2.COLOR_BGR2RGB)); plt.title(f\"{dff.Artwork.iloc[2]}, {dff.Date.iloc[2]}\")\n",
    "plt.show()"
   ]
  },
  {
   "cell_type": "code",
   "execution_count": null,
   "id": "e1279620-39b9-4bdf-a551-282072420d1a",
   "metadata": {},
   "outputs": [],
   "source": [
    "# Visualiser une image avec du texte\n",
    "\n",
    "from PIL import Image\n",
    "from PIL import ImageDraw\n",
    "\n",
    "img = Image.open(os.path.join(dname, dff.Filename.iloc[0]))\n",
    "\n",
    "txt = ImageDraw.Draw(img)\n",
    "\n",
    "txt.text((28, 36), f\"{dff.Artist.iloc[0]}, {dff.Artwork.iloc[0]}, {dff.Date.iloc[0]}\", fill=(255, 255, 255))\n",
    "\n",
    "img.show()\n"
   ]
  },
  {
   "cell_type": "markdown",
   "id": "341c7a82-e007-4531-9cf9-17cd02fb7385",
   "metadata": {},
   "source": [
    "### Enregistrer ses visualisation "
   ]
  },
  {
   "cell_type": "code",
   "execution_count": null,
   "id": "742f0086-edc7-4868-9d40-ec027aa3020a",
   "metadata": {},
   "outputs": [],
   "source": [
    "# Visualiser une image avec du texte et enregistrer\n",
    "\n",
    "from PIL import Image\n",
    "from PIL import ImageDraw\n",
    "\n",
    "img = Image.open(os.path.join(dname, dff.Filename.iloc[0]))\n",
    "\n",
    "txt = ImageDraw.Draw(img)\n",
    "\n",
    "txt.text((28, 36), f\"{dff.Artist.iloc[0]}, {dff.Artwork.iloc[0]}, {dff.Date.iloc[0]}\", fill=(255, 255, 255))\n",
    "\n",
    "img.show()\n",
    "\n",
    "img.save(f\"name_{dff.Filename.iloc[0]}\", dpi=(300,300))"
   ]
  },
  {
   "cell_type": "code",
   "execution_count": null,
   "id": "b7389611-3836-4904-9c53-057a5e10622b",
   "metadata": {},
   "outputs": [],
   "source": [
    "# visualiser mes 3 images et enregistrer\n",
    "\n",
    "plt.figure(figsize=(15,10))\n",
    "plt.subplot(131); plt.imshow(cv2.cvtColor(cv2.imread(os.path.join(dname, dff.Filename.iloc[0])), cv2.COLOR_BGR2RGB)); plt.title(f\"{dff.Artwork.iloc[0]}, {dff.Date.iloc[0]}\");\n",
    "plt.subplot(132); plt.imshow(cv2.cvtColor(cv2.imread(os.path.join(dname, dff.Filename.iloc[1])), cv2.COLOR_BGR2RGB)); plt.title(f\"{dff.Artwork.iloc[1]}, {dff.Date.iloc[1]}\")\n",
    "plt.subplot(133); plt.imshow(cv2.cvtColor(cv2.imread(os.path.join(dname, dff.Filename.iloc[2])), cv2.COLOR_BGR2RGB)); plt.title(f\"{dff.Artwork.iloc[2]}, {dff.Date.iloc[2]}\")\n",
    "plt.show()\n",
    "plt.suptitle('Sonia Delaunay', size=25)\n",
    "#plt.savefig(f\"name2_{dff.Filename.iloc[0]}\", dpi=300)"
   ]
  },
  {
   "cell_type": "markdown",
   "id": "32f9c7f0-801f-4b20-b456-6ff99247d231",
   "metadata": {},
   "source": [
    "## **Visualiser en mosaïque**\n",
    "### Une mosïque d'images redimensionnées\n",
    "\n",
    "Pour pouvoir faire une mosaïque d'images, il faut au préalable les redimensionner en gardant les proportions: un petit rappel sur la manière pour le faire."
   ]
  },
  {
   "cell_type": "code",
   "execution_count": null,
   "id": "9077c49d-fc7f-40a0-aff0-eb2de22c3992",
   "metadata": {},
   "outputs": [],
   "source": [
    "# reprenons notre images\n",
    "\n",
    "plt.imshow(mes_images[0])\n",
    "plt.show()"
   ]
  },
  {
   "cell_type": "code",
   "execution_count": null,
   "id": "9414c285-cbb1-4f53-a77d-89f5284cf558",
   "metadata": {},
   "outputs": [],
   "source": [
    "# Redimensionner en gardant les proportion\n",
    "\n",
    "(h, w) = mes_images[0].shape[:2]\n",
    "newh = 500\n",
    "ratio = newh/ float(h)\n",
    "newdim = (int(w * ratio), newh)\n",
    "redim = cv2.resize(mes_images[0], newdim)\n",
    "print(redim.shape, mes_images[0].shape)\n",
    "plt.imshow(redim)\n",
    "plt.show()"
   ]
  },
  {
   "cell_type": "code",
   "execution_count": null,
   "id": "8d0de67d-8512-404c-83cd-6f1b1820d434",
   "metadata": {},
   "outputs": [],
   "source": [
    "# Redimensionner une image avec une autre en gardant les proportion \n",
    "\n",
    "(h, w) = mes_images[0].shape[:2]\n",
    "newh = mes_images[1].shape[0]\n",
    "ratio = newh/ float(h)\n",
    "newdim = (int(w * ratio), newh)\n",
    "redim = cv2.resize(mes_images[0], newdim)\n",
    "print(redim.shape, mes_images[0].shape, mes_images[1].shape)\n",
    "plt.imshow(redim)\n",
    "plt.show()"
   ]
  },
  {
   "cell_type": "markdown",
   "id": "92d17f75-2a8d-40f7-aad9-84a6551589e6",
   "metadata": {},
   "source": [
    "### Concaténation verticale\n",
    "\n",
    "Redimensionner les images selon leur largeur permet de les concaténer verticalement"
   ]
  },
  {
   "cell_type": "code",
   "execution_count": null,
   "id": "63f2302f-7059-4f94-a075-1bc06d24ee76",
   "metadata": {},
   "outputs": [],
   "source": [
    "concat_h = cv2.hconcat([mes_images[1], redim])\n",
    "plt.imshow(concat_h)\n",
    "plt.show()"
   ]
  },
  {
   "cell_type": "markdown",
   "id": "cdcd0fea-a567-4f90-aee7-3674f9889670",
   "metadata": {},
   "source": [
    "### Concaténation horizontale\n",
    "\n",
    "Redimensionner les images selon leur hauteur permet de les concaténer horizontalement"
   ]
  },
  {
   "cell_type": "code",
   "execution_count": null,
   "id": "a9be21fa-1a02-47ff-b230-81a9c968a3d3",
   "metadata": {},
   "outputs": [],
   "source": [
    "# avec deux images de dimensions différentes\n",
    "\n",
    "print(mes_images[1].shape, mes_images[2].shape)"
   ]
  },
  {
   "cell_type": "code",
   "execution_count": null,
   "id": "5459c496-5db7-432b-ad26-b6ee99c9626a",
   "metadata": {},
   "outputs": [],
   "source": [
    "h = mes_images[1].shape[0]\n",
    "ratio = h/float(mes_images[2].shape[0])\n",
    "newdim = (int(mes_images[2].shape[1]*ratio), h)\n",
    "newdim"
   ]
  },
  {
   "cell_type": "code",
   "execution_count": null,
   "id": "9d9d38ae-bf45-4fe0-a2be-edd9787347c8",
   "metadata": {},
   "outputs": [],
   "source": [
    "# Opérer la changement de dimension puis concatener\n",
    "\n",
    "redim2 = cv2.resize(mes_images[2], newdim)\n",
    "conc_h = cv2.hconcat([redim2, mes_images[1]])\n",
    "plt.imshow(conc_h)\n",
    "plt.show()"
   ]
  },
  {
   "cell_type": "code",
   "execution_count": null,
   "id": "4067cb6b-a85a-4d90-a397-95f7b86dc0aa",
   "metadata": {},
   "outputs": [],
   "source": [
    "# si on met tout dans une cellule ?\n",
    "\n",
    "img1 = mes_images[2]\n",
    "img2 = mes_images[5]\n",
    "filename = \"concat.jpg\"\n",
    "h = img1.shape[0]\n",
    "ratio = h/float(img2.shape[0])\n",
    "newdim = (int(img2.shape[1]*ratio), h)\n",
    "redim2 = cv2.resize(img2, newdim)\n",
    "conc_h = cv2.hconcat([redim2, img1])\n",
    "conc_hc = cv2.cvtColor(conc_h, cv2.COLOR_RGB2BGR)\n",
    "#cv2.imwrite(filename, conc_hc)\n",
    "plt.imshow(conc_h)\n",
    "plt.show"
   ]
  },
  {
   "cell_type": "markdown",
   "id": "15595ef2-3b08-4a74-9f1e-cfb5430ef671",
   "metadata": {},
   "source": [
    "**Et si on créait un script Python ?**"
   ]
  },
  {
   "cell_type": "markdown",
   "id": "c6f5fdd2-37c5-4d78-9698-cc26c6fc4428",
   "metadata": {},
   "source": [
    "### Une fonction pour faire des mosaïques ?\n",
    "\n",
    "<div class=\"alert alert-block alert-warning\">\n",
    "<b>Exercice</b>: créer une fonction qui prend en entrée le CSV, le nom d'un artiste (ici toujours Sonia Delaunay). La fonction doit concaténer horizontalement les images de l'artiste. En sortie l'image concaténée est enregistrée avec un message pour dire que tout s'est bien passée.</div>"
   ]
  },
  {
   "cell_type": "code",
   "execution_count": null,
   "id": "6ef323ab-5730-4498-a45d-536e1d2afd8c",
   "metadata": {},
   "outputs": [],
   "source": []
  },
  {
   "cell_type": "code",
   "execution_count": null,
   "id": "2ed7f6d2-0ccc-42db-a083-d35724dbee1c",
   "metadata": {},
   "outputs": [],
   "source": []
  },
  {
   "cell_type": "code",
   "execution_count": null,
   "id": "48d826ba-80d8-40e1-aed0-7435fdb8e54c",
   "metadata": {},
   "outputs": [],
   "source": []
  },
  {
   "cell_type": "markdown",
   "id": "75748485-ba9a-4510-bdef-b1e5de5e4830",
   "metadata": {},
   "source": [
    "### Level up\n",
    "\n",
    "<div class=\"alert alert-block alert-warning\">\n",
    "<b>Exercice</b>: cette fois il s'agit de créer une mosaïque verticale et horizontale. Au terme, vous aurez une fonction qui prend comme arguments le nombre d'images par ligne, le CSV et le nom d'un artiste. Comme l'image doit être complète vous compléterez la ligne avec un rectangle de la couleur que vous voudrez. Evidemment, l'image doit être enregistrée à la fin.</div>"
   ]
  },
  {
   "cell_type": "code",
   "execution_count": null,
   "id": "5379c8dc-541b-4a34-82fc-7f339b0a6bdb",
   "metadata": {},
   "outputs": [],
   "source": []
  },
  {
   "cell_type": "code",
   "execution_count": null,
   "id": "9e2709c0-68a7-4ae7-b5ad-b631fa1b887f",
   "metadata": {},
   "outputs": [],
   "source": []
  },
  {
   "cell_type": "code",
   "execution_count": null,
   "id": "8be86795-b62e-4cc3-9a47-1b271c3f71b1",
   "metadata": {},
   "outputs": [],
   "source": []
  }
 ],
 "metadata": {
  "kernelspec": {
   "display_name": "image",
   "language": "python",
   "name": "image"
  },
  "language_info": {
   "codemirror_mode": {
    "name": "ipython",
    "version": 3
   },
   "file_extension": ".py",
   "mimetype": "text/x-python",
   "name": "python",
   "nbconvert_exporter": "python",
   "pygments_lexer": "ipython3",
   "version": "3.8.13"
  }
 },
 "nbformat": 4,
 "nbformat_minor": 5
}
