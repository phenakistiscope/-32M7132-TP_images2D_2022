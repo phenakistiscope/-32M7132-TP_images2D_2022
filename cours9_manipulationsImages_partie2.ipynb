{
 "cells": [
  {
   "cell_type": "markdown",
   "id": "5bdc4e1d-7df6-4bc5-98da-31339927d3fe",
   "metadata": {},
   "source": [
    "### **Manipuler des images avec Python: partie 2**\n",
    "\n",
    "## Introduction à l'analyse des images - 32M7132\n",
    "\n",
    "*Adrien Jeanrenaud (adrien.jeanrenaud@unige.ch)*"
   ]
  },
  {
   "cell_type": "markdown",
   "id": "e50e3be2-6856-46da-abee-ccc37414ccb5",
   "metadata": {},
   "source": [
    "<div class=\"alert alert-block alert-info\">\n",
    "<b>Manipulations des images partie 2</b> : continuons la manipulation d'images en quantité, en extrayant automatiquement ou manuellement les informations des images :\n",
    "</div>\n",
    "\n",
    "## **Plan du cours**\n",
    "\n",
    "> **Extraire des inforamtions sur les couleurs**\n",
    "> * Cibler un dossier \n",
    "> * Reprendre notre fonction pour importer des images\n",
    "> * Insérer l'extraction des couleurs dominantes\n",
    "> * Récupérer les données\n",
    "> * Enregistrer les résultats\n",
    "\n",
    "> **Extraire des informations manuellement**\n",
    "> * Définir les variables de base\n",
    "> * Que cherche-t-on ?\n",
    "> * Créer un tableur\n",
    "> * Reprendre un tableur en route\n",
    "> * Ajouter nos informations manuellement\n"
   ]
  },
  {
   "cell_type": "code",
   "execution_count": null,
   "id": "4a3b30ff-fc7b-4542-b23f-27185cda4e4d",
   "metadata": {},
   "outputs": [],
   "source": [
    "# importer les librairies nécessaires\n",
    "\n",
    "import numpy as np\n",
    "import os\n",
    "import cv2\n",
    "import matplotlib.pyplot as plt"
   ]
  },
  {
   "cell_type": "markdown",
   "id": "8cc6c51e-0c1c-4bf8-93f5-462c64698cd7",
   "metadata": {},
   "source": [
    "## **Extraire des inforamtions sur les couleurs**\n",
    "\n",
    "Il y a quelques semaines, nous avons extrait les couleurs dominantes à l'aide d'un algorithme de k-moyenne (voir cours 6). Désormais, nous allons automatiser l'extraction de ces informations en insérant l'algorithme dans une fonction qui l'applique à toutes les images.\n",
    "\n",
    "### Cibler un dossier \n",
    "\n",
    "Premièrement il faut, comme d'habitude, cibler le dossier avec nos images."
   ]
  },
  {
   "cell_type": "code",
   "execution_count": null,
   "id": "d8465244-6ff6-4a55-a11a-c16f540543f5",
   "metadata": {},
   "outputs": [],
   "source": [
    "# dans quel dossier nous sommes\n",
    "\n",
    "os.getcwd()"
   ]
  },
  {
   "cell_type": "code",
   "execution_count": null,
   "id": "fd0bcfa0-1c77-4f92-b9b4-352112c5b9ca",
   "metadata": {},
   "outputs": [],
   "source": [
    "# Cibler un dossier\n",
    "\n",
    "path = \"fauvisme1904_1908\""
   ]
  },
  {
   "cell_type": "code",
   "execution_count": null,
   "id": "6ddf752a-2efb-4776-8531-264537b43570",
   "metadata": {},
   "outputs": [],
   "source": [
    "# est-ce bien un dossier ?\n",
    "\n",
    "os.path.isdir(path)"
   ]
  },
  {
   "cell_type": "code",
   "execution_count": null,
   "id": "81aabd57-0e94-454e-9365-aa04bfc36352",
   "metadata": {
    "tags": []
   },
   "outputs": [],
   "source": [
    "# fichiers et dossiers au bout du chemin\n",
    "\n",
    "os.listdir(path)"
   ]
  },
  {
   "cell_type": "markdown",
   "id": "39c404c6-ffaa-4e75-8957-ca53202be7a7",
   "metadata": {},
   "source": [
    "### Reprendre notre fonction pour importer des images\n",
    "\n",
    "La fonction que nous avons mis au point la semaine dernière est toujours d'actualité "
   ]
  },
  {
   "cell_type": "code",
   "execution_count": null,
   "id": "62de3b43-0e2f-4c41-bce3-ce6f6cda9392",
   "metadata": {},
   "outputs": [],
   "source": [
    "# ligne par ligne\n",
    "\n",
    "def importer_images(path):\n",
    "    \n",
    "    liste_images = []\n",
    "    ext = [\".jpeg\", \".png\", \".jpg\"]\n",
    "    dossier = os.listdir(path)\n",
    "    for files in dossier:\n",
    "        if files.endswith(tuple(ext)):\n",
    "            image_dossier = os.path.join(path, files)\n",
    "            image = cv2.imread(image_dossier)\n",
    "            image = cv2.cvtColor(image, cv2.COLOR_BGR2RGB)\n",
    "            liste_images.append(image)\n",
    "    return liste_images"
   ]
  },
  {
   "cell_type": "code",
   "execution_count": null,
   "id": "5d2025b9-6adc-4db9-9ce1-d2d7ca6accd2",
   "metadata": {},
   "outputs": [],
   "source": [
    "# Utilisons la fonction\n",
    "\n",
    "mes_images = importer_images(path=path)"
   ]
  },
  {
   "cell_type": "code",
   "execution_count": null,
   "id": "e629ee5d-eb2d-4862-979a-f65f2ef13265",
   "metadata": {},
   "outputs": [],
   "source": [
    "len(mes_images)"
   ]
  },
  {
   "cell_type": "markdown",
   "id": "2797b340-92a1-4467-b5df-9d31d97cc4d6",
   "metadata": {},
   "source": [
    "### Insérer l'extraction des couleurs dominantes\n",
    "\n",
    "Il est possible d'ajouter directement dans la fonction l'extraction des couleurs dominantes: pour tout faire en une fois"
   ]
  },
  {
   "cell_type": "code",
   "execution_count": null,
   "id": "91752ddb-0d3f-464f-9498-71b88430585f",
   "metadata": {},
   "outputs": [],
   "source": [
    "# import la librairie\n",
    "from sklearn.cluster import KMeans"
   ]
  },
  {
   "cell_type": "code",
   "execution_count": null,
   "id": "7dfda79f-f506-4acb-8ed0-f64853f42daf",
   "metadata": {},
   "outputs": [],
   "source": [
    "# Un petit test d'après son image couleur\n",
    "\n",
    "plt.imshow(mes_images[0])\n",
    "plt.show()"
   ]
  },
  {
   "cell_type": "code",
   "execution_count": null,
   "id": "85449976-6529-4784-a70d-f1a8cddd77db",
   "metadata": {},
   "outputs": [],
   "source": [
    "# d'abord il faut passer d'une image 3D à une image 2D\n",
    "(h,w,c) = mes_images[0].shape\n",
    "img2D = mes_images[0].reshape(h*w,c)\n",
    "print(img2D)\n",
    "print(img2D.shape)"
   ]
  },
  {
   "cell_type": "code",
   "execution_count": null,
   "id": "edca69ea-8c6c-43a0-bae0-110c6f3c907a",
   "metadata": {},
   "outputs": [],
   "source": [
    "# On choisit le nombre de regroupements (clusters) à l'aide du k\n",
    "\n",
    "n = 6\n",
    "kmeans_model = KMeans(n_clusters=n)"
   ]
  },
  {
   "cell_type": "code",
   "execution_count": null,
   "id": "ebb0ae0f-e894-42ee-b361-a9329261b792",
   "metadata": {},
   "outputs": [],
   "source": [
    "# On applique l'algorithme à notre image\n",
    "\n",
    "s=kmeans_model.fit(img2D)\n",
    "cluster_labels = kmeans_model.fit_predict(img2D)"
   ]
  },
  {
   "cell_type": "code",
   "execution_count": null,
   "id": "b36f5f3d-0715-466b-b3e2-74a45f4ec3fe",
   "metadata": {},
   "outputs": [],
   "source": [
    "# On peut voir combien de pixels il y a par regroupemets\n",
    "\n",
    "from collections import Counter\n",
    "labels_count = Counter(cluster_labels)\n",
    "print(labels_count)"
   ]
  },
  {
   "cell_type": "code",
   "execution_count": null,
   "id": "55abdf4a-e69f-4c0b-95ce-c951a260146e",
   "metadata": {},
   "outputs": [],
   "source": [
    "# On peut voir quels sont les centres des regroupements, donc les couleurs\n",
    "\n",
    "rgb_cols = kmeans_model.cluster_centers_.round(0).astype(int)\n",
    "\n",
    "print(rgb_cols)"
   ]
  },
  {
   "cell_type": "code",
   "execution_count": null,
   "id": "f2a2169a-d7ad-4dad-bf83-94fb9c10885a",
   "metadata": {},
   "outputs": [],
   "source": [
    "# L'image est désormais faite de \"k\" couleurs\n",
    "img_quant = np.reshape(rgb_cols[cluster_labels],(h,w,c))"
   ]
  },
  {
   "cell_type": "code",
   "execution_count": null,
   "id": "a9a362b7-a8dd-43dd-a45f-ac4c3394e922",
   "metadata": {},
   "outputs": [],
   "source": [
    "fig, ax = plt.subplots(1,2, figsize=(16,12))\n",
    "ax[0].imshow(mes_images[0])\n",
    "ax[0].set_title('Image en couleur')\n",
    "ax[1].imshow(img_quant)\n",
    "ax[1].set_title(f'Image avec un k-means = {n}')"
   ]
  },
  {
   "cell_type": "code",
   "execution_count": null,
   "id": "bee1c58f-e312-4650-a451-a332629e97ce",
   "metadata": {},
   "outputs": [],
   "source": [
    "img_quant.shape"
   ]
  },
  {
   "cell_type": "code",
   "execution_count": null,
   "id": "53bf9be0-1923-4136-8ff9-eee752c637b2",
   "metadata": {},
   "outputs": [],
   "source": [
    "from tqdm.notebook import tqdm"
   ]
  },
  {
   "cell_type": "code",
   "execution_count": null,
   "id": "9d66bdfa-52f8-45b2-9732-5ccb7a1de26c",
   "metadata": {},
   "outputs": [],
   "source": [
    "# créer une fonction avec tout dedans et récupérer les informations\n",
    "\n",
    "ext = [\".jpeg\", \".png\", \".jpg\"]\n",
    "dossier = os.listdir(path)\n",
    "for files in tqdm(dossier[:3]):\n",
    "    if files.endswith(tuple(ext)):\n",
    "        image_dossier = os.path.join(path, files)\n",
    "        file, ext = os.path.splitext(files)\n",
    "        \n",
    "        image = cv2.imread(image_dossier)        \n",
    "        \n",
    "        (h,w,c) = image.shape\n",
    "        img2D = image.reshape(h*w,c)\n",
    "        \n",
    "        n = 6\n",
    "        kmeans_model = KMeans(n_clusters=n)\n",
    "        \n",
    "        s=kmeans_model.fit(img2D)\n",
    "        cluster_labels = kmeans_model.fit_predict(img2D)\n",
    "        \n",
    "        rgb_cols = kmeans_model.cluster_centers_.round(0).astype(int)\n",
    "\n",
    "        img_quant = np.reshape(rgb_cols[cluster_labels],(h,w,c))\n",
    "        \n",
    "        cv2.imwrite(f'kmeans{n}_{file}{ext}', img_quant)"
   ]
  },
  {
   "cell_type": "markdown",
   "id": "a6161ea1-5605-4aa8-9b7a-50675ff63b52",
   "metadata": {},
   "source": [
    "<div class=\"alert alert-block alert-warning\">\n",
    "<b>Exercice</b>: reprenez simplement le code et faites en une fonction qui prend comme arguments: un chemin et le k (nombre de regroupements).</div>"
   ]
  },
  {
   "cell_type": "code",
   "execution_count": null,
   "id": "c6d7a14e-6412-4678-97cd-49c4b899499e",
   "metadata": {},
   "outputs": [],
   "source": []
  },
  {
   "cell_type": "code",
   "execution_count": null,
   "id": "54b5d903-56d9-41f6-af8a-78f1004f90c7",
   "metadata": {},
   "outputs": [],
   "source": []
  },
  {
   "cell_type": "code",
   "execution_count": null,
   "id": "403d84cc-bcff-4954-8036-4e5d86d6e975",
   "metadata": {},
   "outputs": [],
   "source": []
  },
  {
   "cell_type": "markdown",
   "id": "80679a80-34d0-464c-81c8-4f75258ed178",
   "metadata": {},
   "source": [
    "## **Extraire des informations manuellement**\n",
    "\n",
    "Que ce soit la détection de visages, l'extraction de couleur ou le traitement des métadonnées, nous avons vu comment extraire automatiquement des informations des images. Il est également possible d'extraire des informations manuellement, à l'aide d'une fonction qui automatise la tâche\n",
    "\n",
    "### Définir les variables de base\n",
    "\n",
    "En premier lieu, il faut définir quelques variables\n",
    "\n",
    "> * le dossier d'images\n",
    "> * le nom du csv et les extensions des images"
   ]
  },
  {
   "cell_type": "code",
   "execution_count": null,
   "id": "17056a80-3aa8-425d-8f30-a9898a5ea5d7",
   "metadata": {},
   "outputs": [],
   "source": [
    "#importer les librairies\n",
    "\n",
    "from PIL import Image\n",
    "from time import sleep\n",
    "plt.rcParams['figure.figsize'] = [12, 7]"
   ]
  },
  {
   "cell_type": "code",
   "execution_count": null,
   "id": "dac0e24a-dccd-4b73-b349-e48cee3c0046",
   "metadata": {},
   "outputs": [],
   "source": [
    "# le dossier à explorer\n",
    "folder_to_roam = 'fauvisme1904_1908/'\n",
    "\n",
    "os.path.isdir(folder_to_roam)"
   ]
  },
  {
   "cell_type": "code",
   "execution_count": null,
   "id": "9c8f745c-1267-4684-ae8a-d13f6f15a7db",
   "metadata": {},
   "outputs": [],
   "source": [
    "# le nom du csv à écrire \n",
    "csv_to_write = 'fauve_manuel.csv'\n",
    "\n",
    "# pour n'avoir que les images\n",
    "valid_extensions = ['.jpg', '.png', '.jpeg']\n",
    "\n",
    "# separateur dans le csv\n",
    "separator = ','"
   ]
  },
  {
   "cell_type": "markdown",
   "id": "88868d77-d7bc-4318-a0d6-97891832c441",
   "metadata": {},
   "source": [
    "### Que cherche-t-on ?\n",
    "\n",
    "Quelle(s) question(s) pose-t-on à notre groupe d'image ?"
   ]
  },
  {
   "cell_type": "code",
   "execution_count": null,
   "id": "d9860b22-4bef-4fed-91ee-61545ae27f3f",
   "metadata": {},
   "outputs": [],
   "source": [
    "# l'information à noter\n",
    "field_to_write1 = 'personne'\n",
    "\n",
    "# la seconde information à noter\n",
    "#field_to_write2 = ' '"
   ]
  },
  {
   "cell_type": "markdown",
   "id": "8f62493c-d559-4a1a-9b9b-b97decdc7bd7",
   "metadata": {},
   "source": [
    "### Créer un tableur\n",
    "\n",
    "Il nous faut créer un tableur vide pour enregistrer nos informations. On utilise les variables pour définir les colones"
   ]
  },
  {
   "cell_type": "code",
   "execution_count": null,
   "id": "827d59a5-e756-4bca-9c65-8a779624881a",
   "metadata": {},
   "outputs": [],
   "source": [
    "index = [] \n",
    "#keys = [str(field_to_write1), str(field_to_write2)] #si plusieurs informations\n",
    "keys = [str(field_to_write1)]\n",
    "iterator = list(os.walk(folder_to_roam))\n",
    "for root, dirs, files in iterator:\n",
    "    iterator_bis = files\n",
    "    for file in  iterator_bis:\n",
    "        if file.endswith(tuple(valid_extensions)):\n",
    "            index.append(file)\n",
    "\n",
    "pd.DataFrame(columns=keys, index=index).to_csv(csv_to_write)"
   ]
  },
  {
   "cell_type": "code",
   "execution_count": null,
   "id": "eb859af0-e11a-4422-ae25-7656a5bbe6d9",
   "metadata": {},
   "outputs": [],
   "source": [
    "# voir notre csv\n",
    "\n",
    "csv = pd.read_csv(csv_to_write, index_col = [0] )\n",
    "csv"
   ]
  },
  {
   "cell_type": "markdown",
   "id": "c148e48d-11a8-4245-9910-d98080737597",
   "metadata": {},
   "source": [
    "### Reprendre un tableur en route\n",
    "\n",
    "On peut se retrouver devant le cas de figure où on reprend notre CSV après avoir déjà extrait quelques informations. Si vous ajoutez des images à votre dossier ou si vous voulez extraire d'autres informations, il faudra recommencer."
   ]
  },
  {
   "cell_type": "code",
   "execution_count": null,
   "id": "84b00e3d-416f-4d81-9b4b-43fb7bb99a05",
   "metadata": {},
   "outputs": [],
   "source": [
    "todo = []\n",
    "toa = []\n",
    "iterator = list(os.walk(folder_to_roam))\n",
    "df = pd.read_csv(csv_to_write, index_col = [0] )\n",
    "for root, dirs, files in iterator:\n",
    "    for file in files:\n",
    "        if file.endswith(tuple(valid_extensions)):\n",
    "            for i in df.index:\n",
    "                if i == file:\n",
    "                    a = np.where(df.index == i)[0][0]\n",
    "                    if type(df.iloc[int(a)][0]) != str:\n",
    "                        todo.append(file)\n",
    "                        toa.append(a)\n",
    "                    else:\n",
    "                        continue\n",
    "    print(\"Entrées à faire : \" , len(todo))"
   ]
  },
  {
   "cell_type": "markdown",
   "id": "6706d66c-f9c8-4ab8-beaa-46ce99d8d13e",
   "metadata": {},
   "source": [
    "### Ajouter nos informations manuellement\n",
    "\n",
    "Maintenant on peut extraire les informations. La boucle vous demande toute les 10 images si vous voulez continuer. En disant non, vous vous engagez à recommencer à la cellule du dessus."
   ]
  },
  {
   "cell_type": "code",
   "execution_count": null,
   "id": "f5a73ece-66c7-4cbd-9e96-b3468a36cb93",
   "metadata": {},
   "outputs": [],
   "source": [
    "df = pd.read_csv(csv_to_write, index_col = [0] )\n",
    "count = 0\n",
    "for j, k in zip(todo, toa):\n",
    "    img = Image.open(folder_to_roam+j)\n",
    "    plt.imshow(img)\n",
    "    plt.show()\n",
    "    sleep(0.1)\n",
    "    print(\"Image name : \", j)\n",
    "    champ1 = input(str(field_to_write1) + \" : \")\n",
    "    df.loc[df.index[int(k)], field_to_write1] = champ1\n",
    "    #champ2 = input(str(field_to_write2) + \" : \")\n",
    "    #df.loc[df.index[int(k)], field_to_write2] = champ2\n",
    "    df.to_csv(csv_to_write)\n",
    "    count += 1\n",
    "    if count % 10 == 0 :\n",
    "        content = input('Continue ? [y]/n')\n",
    "        if content == 'n':\n",
    "            break"
   ]
  },
  {
   "cell_type": "markdown",
   "id": "9e73f99e-dbe1-49e6-a7d6-cf75e5268091",
   "metadata": {},
   "source": [
    "<div class=\"alert alert-block alert-warning\">\n",
    "<b>Exercice</b>: repartissez vous des questions à poser à ces images. Créez un csv avec le démarche ci-dessus et proposez une visualisation des résultats.</div>"
   ]
  },
  {
   "cell_type": "code",
   "execution_count": null,
   "id": "74e2eef0-8633-4b31-a475-5d20233b758d",
   "metadata": {},
   "outputs": [],
   "source": []
  }
 ],
 "metadata": {
  "kernelspec": {
   "display_name": "image",
   "language": "python",
   "name": "image"
  },
  "language_info": {
   "codemirror_mode": {
    "name": "ipython",
    "version": 3
   },
   "file_extension": ".py",
   "mimetype": "text/x-python",
   "name": "python",
   "nbconvert_exporter": "python",
   "pygments_lexer": "ipython3",
   "version": "3.8.13"
  }
 },
 "nbformat": 4,
 "nbformat_minor": 5
}
