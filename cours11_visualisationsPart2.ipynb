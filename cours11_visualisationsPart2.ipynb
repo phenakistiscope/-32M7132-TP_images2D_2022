{
 "cells": [
  {
   "cell_type": "markdown",
   "id": "bd4be97e-02da-46c3-ab3f-e308be8d2dfc",
   "metadata": {},
   "source": [
    "# **Visualiser des images: partie 2**\n",
    "\n",
    "## Introduction à l'analyse des images - 32M7132\n",
    "\n",
    "*Adrien Jeanrenaud (adrien.jeanrenaud@unige.ch)*"
   ]
  },
  {
   "cell_type": "markdown",
   "id": "857e4e0f-2106-42b6-9ab0-6f8dd7583485",
   "metadata": {},
   "source": [
    "<div class=\"alert alert-block alert-info\">\n",
    "<b>Visualiser des images partie 2</b> : jusqu'ici, nous avons vu l'importance des métadonnées qui sont liées à l'image. Ces métadonnées permettent d'affiner nos visualisations. IVPY est un outil, mis au point par Damon Crockett à l'université de Yale, qui utilise les métadonnées pour proposer des visualisations.\n",
    "</div>\n",
    "\n",
    "## **Plan du cours**\n",
    "\n",
    "> **À partir des métadonnées**\n",
    "> * Importer un CSV\n",
    "> * Extraire des métadonnées des images\n",
    "> * Joindre les métadonnées de plusieurs CSV\n",
    "\n",
    "> **Du CSV à IVPY**\n",
    "> * Choisir notre CSV \n",
    "> * Lier les métadonnées aux images\n",
    "> * Lier les métadonnées à IVPY\n",
    "\n",
    "> **Visualiser avec IVPY**\n",
    "> * Montage, histogram, scatter, compose\n",
    "> * Enregistrer les images\n",
    "\n",
    "<div class=\"alert alert-block alert-danger\">\n",
    "<b>Attention: </b> avant d'utiliser le Notebook, il faut le déplacer dans un clone du repo IVPY (ivpy/src).\n",
    "</div>"
   ]
  },
  {
   "cell_type": "code",
   "execution_count": null,
   "id": "2cf6766c-8133-430f-aa02-df6798278dee",
   "metadata": {},
   "outputs": [],
   "source": [
    "# librairies \n",
    "\n",
    "import pandas as pd\n",
    "from ivpy import attach,show,compose,montage,histogram,scatter\n",
    "import cv2\n",
    "import numpy as np\n",
    "import os\n",
    "from matplotlib import pyplot as plt"
   ]
  },
  {
   "cell_type": "markdown",
   "id": "0b82c67d-69b0-4d94-8f61-ba3f995f12ef",
   "metadata": {},
   "source": [
    "## **À partir des métadonnées**\n",
    "\n",
    "Les visualisations avec IVPY intègrent les métadonnées.Cela signifie qu'en amont il nous faut dégager des métadonnées autour de nos images. Lors des derniers cours nous avons vu comment le faire. Maintenant, il s'agit de tout mettre en commun et créer un CSV unique.\n",
    "\n",
    "### Importer un CSV\n",
    "\n",
    "Reprenez votre CSV de base, celui qui est lié aux images fauves que nous traitons depuis quelques semaines."
   ]
  },
  {
   "cell_type": "code",
   "execution_count": null,
   "id": "b943aadc-825d-427b-92e9-0efc377d0e95",
   "metadata": {},
   "outputs": [],
   "source": [
    "# importer le csv\n",
    "\n",
    "df = pd.read_csv(\"../../32M7132-TP_images2D_2022/fauvisme1904_1908.csv\", index_col=[0])"
   ]
  },
  {
   "cell_type": "code",
   "execution_count": null,
   "id": "95ba003d-22ed-409d-848f-d7bf17c13f72",
   "metadata": {},
   "outputs": [],
   "source": [
    "df.head()"
   ]
  },
  {
   "cell_type": "markdown",
   "id": "89833f37-50b9-45f9-9afa-f21569c8419c",
   "metadata": {},
   "source": [
    "### Extraire des métadonnées des images\n",
    "\n",
    "Pour visualiser les images, on extrait la moyenne des compostantes suivantes: teinte, saturation, valeur (HSV en anglais). Afin de pouvoir ajouter les données à notre CSV, il faut suivre ces différentes étapes:\n",
    "\n",
    "> * importer les images\n",
    "> * extraire les composantes et leur moyennes\n",
    "> * inscrire les données dans un tableau\n",
    "\n",
    "#### Importer les images"
   ]
  },
  {
   "cell_type": "code",
   "execution_count": null,
   "id": "60723e19-0a53-4f0f-a3a2-c11cf10eefe8",
   "metadata": {},
   "outputs": [],
   "source": [
    "# définir le chemin qui mène au dossier\n",
    "\n",
    "path = \"../../32M7132-TP_images2D_2022/fauvisme_1904_1908\"\n",
    "os.path.isdir(path)"
   ]
  },
  {
   "cell_type": "code",
   "execution_count": null,
   "id": "c115740f-ab21-454a-9ed4-423a750e089c",
   "metadata": {},
   "outputs": [],
   "source": [
    "# importer les images à partir de la dataframe\n",
    "\n",
    "images=[]\n",
    "for index, row in df.iterrows():    \n",
    "    \n",
    "    path_img = os.path.join(path, row.Filename)\n",
    "    image = cv2.imread(path_img)\n",
    "    image = cv2.cvtColor(image, cv2.COLOR_BGR2RGB)\n",
    "    images.append(image)"
   ]
  },
  {
   "cell_type": "code",
   "execution_count": null,
   "id": "730d2550-9765-4bb6-8d41-e3fc85ce59bf",
   "metadata": {},
   "outputs": [],
   "source": [
    "# Combien d'images importées?\n",
    "\n",
    "len(images)"
   ]
  },
  {
   "cell_type": "markdown",
   "id": "de8f961e-50d1-41fe-b28e-8190bead6b99",
   "metadata": {},
   "source": [
    "#### Extraire les composantes et leur moyenne"
   ]
  },
  {
   "cell_type": "code",
   "execution_count": null,
   "id": "b9c60a15-5723-45a5-aeca-282e55630033",
   "metadata": {},
   "outputs": [],
   "source": [
    "# transformer une image en référentiel HSV \n",
    "\n",
    "img = cv2.cvtColor(images[0], cv2.COLOR_BGR2HSV)\n",
    "img"
   ]
  },
  {
   "cell_type": "code",
   "execution_count": null,
   "id": "54b39c32-b65b-4604-84e0-4b1ad3a8d495",
   "metadata": {},
   "outputs": [],
   "source": [
    "# extraire les moyennes\n",
    "\n",
    "h = img[:,:,0].mean()\n",
    "s = img[:,:,1].mean()\n",
    "v = img[:,:,2].mean()\n",
    "\n",
    "print(f\"Moyenne teinte: {h} \\nMoyenne saturation : {s} \\nMoyenne valeur : {v}\")"
   ]
  },
  {
   "cell_type": "code",
   "execution_count": null,
   "id": "7d766255-e507-4d87-930d-e9ac48bc1408",
   "metadata": {},
   "outputs": [],
   "source": [
    "# On peut automatiser tout ça depuis l'importation des images et enregistrer dans un dictionnaire\n",
    "# Créons les colonnes dans \n",
    "\n",
    "df[\"teinte\"] = \"\"\n",
    "df[\"saturation\"] = \"\"\n",
    "df[\"valeur\"] = \"\"\n",
    "\n",
    "df.head()"
   ]
  },
  {
   "cell_type": "code",
   "execution_count": null,
   "id": "aa0e1e63-cdb3-4d49-bfe7-22ab8d474436",
   "metadata": {},
   "outputs": [],
   "source": [
    "# Extraire et ajouter les données\n",
    "\n",
    "for index, row in df.iterrows():    \n",
    "    \n",
    "    path_img = os.path.join(path, row.Filename)\n",
    "    image = cv2.imread(path_img)\n",
    "    image = cv2.cvtColor(image, cv2.COLOR_BGR2HSV)\n",
    "    h = image[:,:,0].mean()\n",
    "    df.at[index, \"teinte\"] = h\n",
    "    s = image[:,:,1].mean()\n",
    "    df.at[index, \"saturation\"] = s\n",
    "    v = image[:,:,2].mean()\n",
    "    df.at[index, \"valeur\"] = v"
   ]
  },
  {
   "cell_type": "code",
   "execution_count": null,
   "id": "4c8cc695-8f00-42a0-8b07-ffd6fa3fde78",
   "metadata": {},
   "outputs": [],
   "source": [
    "df.head()"
   ]
  },
  {
   "cell_type": "markdown",
   "id": "adc6cb6c-d23c-4e45-9fa0-61e178649482",
   "metadata": {},
   "source": [
    "### Joindre les métadonnées de plusieurs CSV\n",
    "\n",
    "On peut également ajouter les données que vous avez extraites manuellement"
   ]
  },
  {
   "cell_type": "code",
   "execution_count": null,
   "id": "f4c2a38f-015b-4d52-98a6-c18290e196b3",
   "metadata": {},
   "outputs": [],
   "source": [
    "# Importer votre csv\n",
    "\n",
    "df2 = pd.read_csv(\"\", index_col=[0])"
   ]
  },
  {
   "cell_type": "code",
   "execution_count": null,
   "id": "33f4ab45-39cf-436c-88cc-69c663c106f8",
   "metadata": {},
   "outputs": [],
   "source": [
    "# Joindre selon le nom du fichier\n",
    "\n",
    "merged = df.join(df2.set_index(['Filename']), on = ['Filename'], how = 'right', lsuffix='_x')\n",
    "merged\n",
    "#merged.to_csv(\"fauvisme_hsv.csv\")"
   ]
  },
  {
   "cell_type": "markdown",
   "id": "24f32151-1659-4446-9d55-5a81ef551593",
   "metadata": {},
   "source": [
    "## **Du CSV à IVPY**\n",
    "\n",
    "Pour que IVPY puisse créer les visualisation quelques opérations préparatoires sont nécessaires\n",
    "\n",
    "### Choisir notre CSV "
   ]
  },
  {
   "cell_type": "code",
   "execution_count": null,
   "id": "b5d3fbf9-3a96-4117-8472-1e751f656bdc",
   "metadata": {},
   "outputs": [],
   "source": [
    "# On reprendre notre CSV ou on importe un autre\n",
    "\n",
    "df = pd.read_csv(\"fauvisme_hsv.csv\", index_col=[0])\n",
    "df"
   ]
  },
  {
   "cell_type": "markdown",
   "id": "b10e7d33-f9b5-4625-966d-7a6baa2a9090",
   "metadata": {},
   "source": [
    "### Lier les métadonnées aux images\n",
    "\n",
    "Il faut d'abord lier le tableau de métadonnées aux images: pour ce faire on va créer une nouvelle colonne avec le chemin"
   ]
  },
  {
   "cell_type": "code",
   "execution_count": null,
   "id": "04f0c353-066e-49b0-93ec-f869657823fa",
   "metadata": {},
   "outputs": [],
   "source": [
    "# on reprend notre chemin\n",
    "path"
   ]
  },
  {
   "cell_type": "code",
   "execution_count": null,
   "id": "24d3995a-59f9-4df5-aa7c-b790899c3ee6",
   "metadata": {},
   "outputs": [],
   "source": [
    "df.Filename = [path+\"/\"+item for item in df.Filename.astype(str)]\n",
    "df = df.drop_duplicates()\n",
    "df.head()"
   ]
  },
  {
   "cell_type": "code",
   "execution_count": null,
   "id": "3b693201-47f4-43a4-bc6f-61d0b1fc601c",
   "metadata": {},
   "outputs": [],
   "source": [
    "# on vérifie le nom\n",
    "\n",
    "df.iloc[0].Filename"
   ]
  },
  {
   "cell_type": "code",
   "execution_count": null,
   "id": "5a2d205f-c8fd-46cb-bfb3-81953e23f470",
   "metadata": {},
   "outputs": [],
   "source": [
    "# Verification pour l'image\n",
    "\n",
    "image = cv2.imread(df.iloc[0].Filename)\n",
    "print(f\"Path to images is correct : {type(image) == np.ndarray}\")"
   ]
  },
  {
   "cell_type": "markdown",
   "id": "f4a23fb2-0d88-41e3-953b-09a45d296c37",
   "metadata": {},
   "source": [
    "### Lier les métadonnées à IVPY\n",
    "\n",
    "\n",
    "Pour utiliser IVPY, il faut simplement indiquer le chemin dans le tableau pour lire les images. On peut également choisir le fond sur lequel les images seront visualisées."
   ]
  },
  {
   "cell_type": "code",
   "execution_count": null,
   "id": "77f3bdfb-c778-4960-8ace-af8c5a522e2d",
   "metadata": {},
   "outputs": [],
   "source": [
    "# On remet l'index à zéro\n",
    "\n",
    "df = df.reset_index()"
   ]
  },
  {
   "cell_type": "code",
   "execution_count": null,
   "id": "f88d1755-7248-4a70-a874-7f090118fd7f",
   "metadata": {},
   "outputs": [],
   "source": [
    "attach(df,'Filename')"
   ]
  },
  {
   "cell_type": "code",
   "execution_count": null,
   "id": "01d17c6d-9270-4d4c-927a-41fd206eee69",
   "metadata": {},
   "outputs": [],
   "source": [
    "# est-ce que ça marche ?\n",
    "\n",
    "show(pathcol=0) #or show(1)"
   ]
  },
  {
   "cell_type": "code",
   "execution_count": null,
   "id": "faeb34bb-16c7-49ac-a5c9-02246cad972a",
   "metadata": {},
   "outputs": [],
   "source": [
    "# RGB triplet\n",
    "\n",
    "R = 39 #red\n",
    "G = 33 #green\n",
    "B = 122 #blue\n",
    "\n",
    "# couleurs utilisées\n",
    "color = (R,G,B)\n",
    "\n",
    "# visualiser\n",
    "c = np.array([[[R,G,B],\n",
    "               [R,G,B],\n",
    "               [R,G,B]],\n",
    "              [[R,G,B],\n",
    "               [R,G,B],\n",
    "               [R,G,B]]])\n",
    "\n",
    "print(color)\n",
    "plt.imshow(c)\n",
    "plt.show()"
   ]
  },
  {
   "cell_type": "markdown",
   "id": "72fb9dfe-6d01-4d59-9ab5-dc34cba1e838",
   "metadata": {},
   "source": [
    "## **Visualiser avec IVPY**\n",
    "\n",
    "IVPY a plusieurs manières de visualiser les images. Voilà les princiaples fonctions\n",
    "\n",
    ">Montage\n",
    ">>Viusaliser les images en cercle ou en en carré, avec des arguments\n",
    "\n",
    ">Histogram\n",
    ">>Crée un histogramme selon les colonnes indiquées\n",
    "\n",
    ">Scatter\n",
    ">>Dispose les images selon des points répartis le long de deux axes\n",
    "\n",
    ">Compose\n",
    ">>Permet de concatener plusieurs graphiques\n",
    "\n",
    ">Save\n",
    ">>Sauvegarder les visualisations\n",
    "\n",
    "Et quelques paramètres:\n",
    "\n",
    ">bg\n",
    ">>Choix de la couleur en arrière plan (défninie avant)\n",
    "\n",
    ">thumb\n",
    ">>Taille de l'image: plus la taille est grande plus l'image sera de qualité (enregistrer directement l'image pour éviter les problèmes)\n",
    "\n",
    ">xcol/ycol\n",
    ">>Classification selon les colonnes\n",
    "\n",
    ">facetcol\n",
    ">>Classifie au sein du même graphique\n",
    "\n",
    ">notecol\n",
    ">>Annotation sur les images"
   ]
  },
  {
   "cell_type": "markdown",
   "id": "b606cacd-34ee-4b14-b44a-dac737741eda",
   "metadata": {},
   "source": [
    "### Montage, histogram, scatter, compose\n",
    "\n",
    "Voyons les différentes fonctions et leurs arguments"
   ]
  },
  {
   "cell_type": "code",
   "execution_count": null,
   "id": "74375034-f7fc-4d38-894b-8c530567d0da",
   "metadata": {},
   "outputs": [],
   "source": [
    "# Montage\n",
    "\n",
    "montage(thumb=50,shape='square', bg=color, xcol=\"saturation\", ascending=True)"
   ]
  },
  {
   "cell_type": "code",
   "execution_count": null,
   "id": "3fb5810c-41fa-4a1f-9739-3b29ad7408de",
   "metadata": {},
   "outputs": [],
   "source": [
    "# Reprenons Sonia Delaunay\n",
    "\n",
    "sub_df = df[df.Artist=='Sonia Delaunay']\n",
    "sub_df"
   ]
  },
  {
   "cell_type": "code",
   "execution_count": null,
   "id": "5df62004-5a0a-4818-9d17-732ac7c8939a",
   "metadata": {},
   "outputs": [],
   "source": [
    "montage(pathcol=sub_df.Filename, \n",
    "        shape='square',\n",
    "        xcol=sub_df.Date,\n",
    "        notecol= sub_df.Artist + \", \" +sub_df.Artwork + \", \"+ sub_df.Date.astype(str),\n",
    "        thumb=450, \n",
    "        bg=color)\n"
   ]
  },
  {
   "cell_type": "code",
   "execution_count": null,
   "id": "061170aa-1583-4329-a8a9-2459433a347a",
   "metadata": {},
   "outputs": [],
   "source": [
    "# Histogram\n",
    "\n",
    "histogram(xcol=df.Date, thumb=80,ycol='valeur',bins=5, bg=color)"
   ]
  },
  {
   "cell_type": "code",
   "execution_count": null,
   "id": "1f4a5468-1ba5-439d-a3eb-de48795a8f81",
   "metadata": {},
   "outputs": [],
   "source": [
    "histogram(xcol=df.teinte,thumb=180,ycol='saturation',coordinates='polar',bins=40)"
   ]
  },
  {
   "cell_type": "code",
   "execution_count": null,
   "id": "69379bf4-0732-4076-8518-c5733a50cef6",
   "metadata": {},
   "outputs": [],
   "source": [
    "sub_df_date = df[(df['Date'] == 1904)]\n",
    "sub_df_date"
   ]
  },
  {
   "cell_type": "code",
   "execution_count": null,
   "id": "a2b95cb3-5da6-411d-996e-51a0b4de8e23",
   "metadata": {},
   "outputs": [],
   "source": [
    "histogram(pathcol=sub_df_date.Filename, xcol=sub_df_date.valeur,notecol= sub_df_date.Artist , \n",
    "          thumb=80,ycol=sub_df_date.saturation,bins=10, bg=color)"
   ]
  },
  {
   "cell_type": "code",
   "execution_count": null,
   "id": "5abaf1b0-1369-4e06-b798-cdac219fa2cd",
   "metadata": {},
   "outputs": [],
   "source": [
    "# Scatter\n",
    "\n",
    "scatter('teinte','saturation', side = 400, bg=color, thumb=20)"
   ]
  },
  {
   "cell_type": "code",
   "execution_count": null,
   "id": "8cd7d770-f907-44bf-808b-f39cb077bf97",
   "metadata": {},
   "outputs": [],
   "source": [
    "# Compose\n",
    "\n",
    "sub_df_1904 = df[(df['Date'] == 1904)]\n",
    "sub_df_1905 = df[(df['Date'] == 1905)]\n",
    "sub_df_1906 = df[(df['Date'] == 1906)]\n",
    "sub_df_1907 = df[(df['Date'] == 1907)]\n",
    "sub_df_1908 = df[(df['Date'] == 1908)]\n",
    "\n",
    "\n",
    "h1904 = histogram(pathcol=sub_df_1904.Filename, xcol=sub_df_1904.valeur,notecol= sub_df_1904.Artist , \n",
    "          thumb=80,ycol=sub_df_1904.saturation,bins=10, bg=color)\n",
    "h1905 = histogram(pathcol=sub_df_1905.Filename, xcol=sub_df_1905.valeur,notecol= sub_df_1905.Artist , \n",
    "          thumb=80,ycol=sub_df_1905.saturation,bins=10, bg=color)\n",
    "h1906 = histogram(pathcol=sub_df_1906.Filename, xcol=sub_df_1906.valeur,notecol= sub_df_1906.Artist , \n",
    "          thumb=80,ycol=sub_df_1906.saturation,bins=10, bg=color)\n",
    "h1907 = histogram(pathcol=sub_df_1907.Filename, xcol=sub_df_1907.valeur,notecol= sub_df_1907.Artist , \n",
    "          thumb=80,ycol=sub_df_1907.saturation,bins=10, bg=color)\n",
    "h1908 = histogram(pathcol=sub_df_1908.Filename, xcol=sub_df_1908.valeur,notecol= sub_df_1908.Artist , \n",
    "          thumb=80,ycol=sub_df_1908.saturation,bins=10, bg=color)\n",
    "\n",
    "compose(h1904, h1905, h1906, h1907, h1908)"
   ]
  },
  {
   "cell_type": "markdown",
   "id": "b4e0409a-20a4-47b8-b293-08793e41b1c0",
   "metadata": {},
   "source": [
    "### Enregistrer les images"
   ]
  },
  {
   "cell_type": "code",
   "execution_count": null,
   "id": "534be771-f839-4bd1-87da-f2c614c05e7f",
   "metadata": {},
   "outputs": [],
   "source": [
    "c = compose(h1904, h1905, h1906, h1907, h1908)\n",
    "c.save(\"compose.png\")"
   ]
  },
  {
   "cell_type": "code",
   "execution_count": null,
   "id": "029dda55-d558-46af-a9d7-09c208f08acd",
   "metadata": {},
   "outputs": [],
   "source": []
  }
 ],
 "metadata": {
  "kernelspec": {
   "display_name": "Python 3 (ipykernel)",
   "language": "python",
   "name": "python3"
  },
  "language_info": {
   "codemirror_mode": {
    "name": "ipython",
    "version": 3
   },
   "file_extension": ".py",
   "mimetype": "text/x-python",
   "name": "python",
   "nbconvert_exporter": "python",
   "pygments_lexer": "ipython3",
   "version": "3.10.6"
  }
 },
 "nbformat": 4,
 "nbformat_minor": 5
}
